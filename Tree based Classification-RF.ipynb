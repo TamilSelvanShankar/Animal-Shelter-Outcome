{
 "cells": [
  {
   "cell_type": "code",
   "execution_count": 21,
   "metadata": {},
   "outputs": [],
   "source": [
    "import numpy as np\n",
    "import pandas as pd\n",
    "import matplotlib.pyplot as plt\n",
    "% matplotlib inline"
   ]
  },
  {
   "cell_type": "code",
   "execution_count": 22,
   "metadata": {
    "scrolled": true
   },
   "outputs": [
    {
     "name": "stdout",
     "output_type": "stream",
     "text": [
      "26729\n",
      "10\n",
      "<class 'pandas.core.frame.DataFrame'>\n"
     ]
    },
    {
     "data": {
      "text/html": [
       "<div>\n",
       "<style scoped>\n",
       "    .dataframe tbody tr th:only-of-type {\n",
       "        vertical-align: middle;\n",
       "    }\n",
       "\n",
       "    .dataframe tbody tr th {\n",
       "        vertical-align: top;\n",
       "    }\n",
       "\n",
       "    .dataframe thead th {\n",
       "        text-align: right;\n",
       "    }\n",
       "</style>\n",
       "<table border=\"1\" class=\"dataframe\">\n",
       "  <thead>\n",
       "    <tr style=\"text-align: right;\">\n",
       "      <th></th>\n",
       "      <th>AnimalID</th>\n",
       "      <th>Name</th>\n",
       "      <th>DateTime</th>\n",
       "      <th>OutcomeType</th>\n",
       "      <th>OutcomeSubtype</th>\n",
       "      <th>AnimalType</th>\n",
       "      <th>SexuponOutcome</th>\n",
       "      <th>AgeuponOutcome</th>\n",
       "      <th>Breed</th>\n",
       "      <th>Color</th>\n",
       "    </tr>\n",
       "  </thead>\n",
       "  <tbody>\n",
       "    <tr>\n",
       "      <th>0</th>\n",
       "      <td>A671945</td>\n",
       "      <td>Hambone</td>\n",
       "      <td>2014-02-12 18:22:00</td>\n",
       "      <td>Return_to_owner</td>\n",
       "      <td>NaN</td>\n",
       "      <td>Dog</td>\n",
       "      <td>Neutered Male</td>\n",
       "      <td>1 year</td>\n",
       "      <td>Shetland Sheepdog Mix</td>\n",
       "      <td>Brown/White</td>\n",
       "    </tr>\n",
       "    <tr>\n",
       "      <th>1</th>\n",
       "      <td>A656520</td>\n",
       "      <td>Emily</td>\n",
       "      <td>2013-10-13 12:44:00</td>\n",
       "      <td>Euthanasia</td>\n",
       "      <td>Suffering</td>\n",
       "      <td>Cat</td>\n",
       "      <td>Spayed Female</td>\n",
       "      <td>1 year</td>\n",
       "      <td>Domestic Shorthair Mix</td>\n",
       "      <td>Cream Tabby</td>\n",
       "    </tr>\n",
       "    <tr>\n",
       "      <th>2</th>\n",
       "      <td>A686464</td>\n",
       "      <td>Pearce</td>\n",
       "      <td>2015-01-31 12:28:00</td>\n",
       "      <td>Adoption</td>\n",
       "      <td>Foster</td>\n",
       "      <td>Dog</td>\n",
       "      <td>Neutered Male</td>\n",
       "      <td>2 years</td>\n",
       "      <td>Pit Bull Mix</td>\n",
       "      <td>Blue/White</td>\n",
       "    </tr>\n",
       "    <tr>\n",
       "      <th>3</th>\n",
       "      <td>A683430</td>\n",
       "      <td>NaN</td>\n",
       "      <td>2014-07-11 19:09:00</td>\n",
       "      <td>Transfer</td>\n",
       "      <td>Partner</td>\n",
       "      <td>Cat</td>\n",
       "      <td>Intact Male</td>\n",
       "      <td>3 weeks</td>\n",
       "      <td>Domestic Shorthair Mix</td>\n",
       "      <td>Blue Cream</td>\n",
       "    </tr>\n",
       "    <tr>\n",
       "      <th>4</th>\n",
       "      <td>A667013</td>\n",
       "      <td>NaN</td>\n",
       "      <td>2013-11-15 12:52:00</td>\n",
       "      <td>Transfer</td>\n",
       "      <td>Partner</td>\n",
       "      <td>Dog</td>\n",
       "      <td>Neutered Male</td>\n",
       "      <td>2 years</td>\n",
       "      <td>Lhasa Apso/Miniature Poodle</td>\n",
       "      <td>Tan</td>\n",
       "    </tr>\n",
       "  </tbody>\n",
       "</table>\n",
       "</div>"
      ],
      "text/plain": [
       "  AnimalID     Name             DateTime      OutcomeType OutcomeSubtype  \\\n",
       "0  A671945  Hambone  2014-02-12 18:22:00  Return_to_owner            NaN   \n",
       "1  A656520    Emily  2013-10-13 12:44:00       Euthanasia      Suffering   \n",
       "2  A686464   Pearce  2015-01-31 12:28:00         Adoption         Foster   \n",
       "3  A683430      NaN  2014-07-11 19:09:00         Transfer        Partner   \n",
       "4  A667013      NaN  2013-11-15 12:52:00         Transfer        Partner   \n",
       "\n",
       "  AnimalType SexuponOutcome AgeuponOutcome                        Breed  \\\n",
       "0        Dog  Neutered Male         1 year        Shetland Sheepdog Mix   \n",
       "1        Cat  Spayed Female         1 year       Domestic Shorthair Mix   \n",
       "2        Dog  Neutered Male        2 years                 Pit Bull Mix   \n",
       "3        Cat    Intact Male        3 weeks       Domestic Shorthair Mix   \n",
       "4        Dog  Neutered Male        2 years  Lhasa Apso/Miniature Poodle   \n",
       "\n",
       "         Color  \n",
       "0  Brown/White  \n",
       "1  Cream Tabby  \n",
       "2   Blue/White  \n",
       "3   Blue Cream  \n",
       "4          Tan  "
      ]
     },
     "execution_count": 22,
     "metadata": {},
     "output_type": "execute_result"
    }
   ],
   "source": [
    "train = pd.read_csv('train.csv')\n",
    "test = pd.read_csv('test.csv')\n",
    "print(len(train))\n",
    "print(len(train.columns))\n",
    "print(type(train))\n",
    "\n",
    "train.head()"
   ]
  },
  {
   "cell_type": "code",
   "execution_count": 23,
   "metadata": {
    "scrolled": true
   },
   "outputs": [
    {
     "name": "stdout",
     "output_type": "stream",
     "text": [
      "       AnimalID   Name             DateTime OutcomeType OutcomeSubtype  \\\n",
      "count     26729  19038                26729       26729          13117   \n",
      "unique    26729   6374                22918           5             16   \n",
      "top     A674190    Max  2015-08-11 00:00:00    Adoption        Partner   \n",
      "freq          1    136                   19       10769           7816   \n",
      "\n",
      "       AnimalType SexuponOutcome AgeuponOutcome                   Breed  \\\n",
      "count       26729          26728          26711                   26729   \n",
      "unique          2              5             44                    1380   \n",
      "top           Dog  Neutered Male         1 year  Domestic Shorthair Mix   \n",
      "freq        15595           9779           3969                    8810   \n",
      "\n",
      "              Color  \n",
      "count         26729  \n",
      "unique          366  \n",
      "top     Black/White  \n",
      "freq           2824  \n"
     ]
    }
   ],
   "source": [
    "print(train.describe())\n",
    "#print(train.columns)\n",
    "#train.info()"
   ]
  },
  {
   "cell_type": "code",
   "execution_count": 24,
   "metadata": {},
   "outputs": [
    {
     "name": "stdout",
     "output_type": "stream",
     "text": [
      "AnimalID\n",
      "26729\n",
      "Name\n",
      "6374\n",
      "DateTime\n",
      "22918\n",
      "OutcomeType\n",
      "5\n",
      "OutcomeSubtype\n",
      "16\n",
      "AnimalType\n",
      "2\n",
      "SexuponOutcome\n",
      "5\n",
      "AgeuponOutcome\n",
      "44\n",
      "Breed\n",
      "1380\n",
      "Color\n",
      "366\n"
     ]
    }
   ],
   "source": [
    "columns = train.columns\n",
    "for column in columns:\n",
    "    print(column)\n",
    "    print(train[column].nunique())"
   ]
  },
  {
   "cell_type": "code",
   "execution_count": 25,
   "metadata": {
    "scrolled": true
   },
   "outputs": [],
   "source": [
    "#train[\"Name\"]\n",
    "#train['OutcomeType'].value_counts()\n",
    "#train.iloc[:,1].value_counts()\n",
    "\n",
    "# frequency of each unique value counts\n",
    "s = pd.Series(train.columns)\n",
    "for i in range(0,len(s)):\n",
    "    p = pd.DataFrame(train.iloc[:,i].value_counts())\n",
    "#    print(p)"
   ]
  },
  {
   "cell_type": "code",
   "execution_count": 26,
   "metadata": {
    "scrolled": false
   },
   "outputs": [
    {
     "data": {
      "text/plain": [
       "AnimalID              0\n",
       "Name               7691\n",
       "DateTime              0\n",
       "OutcomeType           0\n",
       "OutcomeSubtype    13612\n",
       "AnimalType            0\n",
       "SexuponOutcome        1\n",
       "AgeuponOutcome       18\n",
       "Breed                 0\n",
       "Color                 0\n",
       "dtype: int64"
      ]
     },
     "execution_count": 26,
     "metadata": {},
     "output_type": "execute_result"
    }
   ],
   "source": [
    "#train.iloc[:,1].isna().count()\n",
    "#train.iloc[:,1].isna()\n",
    "train.isna().sum()"
   ]
  },
  {
   "cell_type": "code",
   "execution_count": 27,
   "metadata": {},
   "outputs": [
    {
     "data": {
      "text/plain": [
       "Adoption           10769\n",
       "Transfer            9422\n",
       "Return_to_owner     4786\n",
       "Euthanasia          1555\n",
       "Died                 197\n",
       "Name: OutcomeType, dtype: int64"
      ]
     },
     "execution_count": 27,
     "metadata": {},
     "output_type": "execute_result"
    }
   ],
   "source": [
    "train['OutcomeType'].value_counts()"
   ]
  },
  {
   "cell_type": "code",
   "execution_count": 28,
   "metadata": {
    "scrolled": true
   },
   "outputs": [
    {
     "data": {
      "text/plain": [
       "<matplotlib.axes._subplots.AxesSubplot at 0x21570515b38>"
      ]
     },
     "execution_count": 28,
     "metadata": {},
     "output_type": "execute_result"
    },
    {
     "data": {
      "image/png": "[encoded data removed]",
      "text/plain": [
       "<Figure size 432x288 with 1 Axes>"
      ]
     },
     "metadata": {
      "needs_background": "light"
     },
     "output_type": "display_data"
    }
   ],
   "source": [
    "#Visualizing frequency of each values from Target variable\n",
    "train['OutcomeType'].value_counts().plot.bar()"
   ]
  },
  {
   "cell_type": "code",
   "execution_count": 29,
   "metadata": {},
   "outputs": [
    {
     "data": {
      "text/plain": [
       "<matplotlib.axes._subplots.AxesSubplot at 0x21570c167f0>"
      ]
     },
     "execution_count": 29,
     "metadata": {},
     "output_type": "execute_result"
    },
    {
     "data": {
      "image/png": "[encoded data removed]",
      "text/plain": [
       "<Figure size 432x288 with 1 Axes>"
      ]
     },
     "metadata": {
      "needs_background": "light"
     },
     "output_type": "display_data"
    }
   ],
   "source": [
    "M_F = {'Neutered Male':'Male','Spayed Female':'Female','Intact Male':'Male','Intact Female':'Female','Unknown':'Unknown'}\n",
    "animals = train\n",
    "animals['Sex'] = animals.SexuponOutcome.map(M_F)\n",
    "Sex = pd.DataFrame(train.Sex.value_counts())\n",
    "df = pd.DataFrame(train[['Sex','OutcomeType']])\n",
    "#df.plot(kind='bar')\n",
    "OutcomeSex = df.groupby(['Sex','OutcomeType']).size().unstack()\n",
    "OutcomeSex.plot(kind='bar',color=['#34ABD8','#E98F85','r'],rot=-30)"
   ]
  },
  {
   "cell_type": "code",
   "execution_count": 30,
   "metadata": {
    "scrolled": true
   },
   "outputs": [
    {
     "name": "stdout",
     "output_type": "stream",
     "text": [
      "Dog    15595\n",
      "Cat    11134\n",
      "Name: AnimalType, dtype: int64\n"
     ]
    },
    {
     "data": {
      "text/plain": [
       "<matplotlib.axes._subplots.AxesSubplot at 0x21570b9fac8>"
      ]
     },
     "execution_count": 30,
     "metadata": {},
     "output_type": "execute_result"
    },
    {
     "data": {
      "image/png": "[encoded data removed]",
      "text/plain": [
       "<Figure size 432x288 with 1 Axes>"
      ]
     },
     "metadata": {
      "needs_background": "light"
     },
     "output_type": "display_data"
    }
   ],
   "source": [
    "AnimalType = train['AnimalType'].value_counts()\n",
    "print(AnimalType)\n",
    "AnimalType.plot(kind='bar',color='#34ABD8',rot=0)"
   ]
  },
  {
   "cell_type": "code",
   "execution_count": 31,
   "metadata": {
    "scrolled": true
   },
   "outputs": [
    {
     "data": {
      "text/plain": [
       "<matplotlib.axes._subplots.AxesSubplot at 0x21572fc07b8>"
      ]
     },
     "execution_count": 31,
     "metadata": {},
     "output_type": "execute_result"
    },
    {
     "data": {
      "image/png": "[encoded data removed]",
      "text/plain": [
       "<Figure size 432x288 with 1 Axes>"
      ]
     },
     "metadata": {
      "needs_background": "light"
     },
     "output_type": "display_data"
    }
   ],
   "source": [
    "AnimalType = train[['AnimalType','OutcomeType']].groupby(['OutcomeType','AnimalType']).size().unstack()\n",
    "AnimalType.plot(kind='bar',color=['#34ABD8','#E98F85'],rot=-30)"
   ]
  },
  {
   "cell_type": "code",
   "execution_count": 32,
   "metadata": {
    "scrolled": true
   },
   "outputs": [
    {
     "data": {
      "text/plain": [
       "<matplotlib.axes._subplots.AxesSubplot at 0x215730338d0>"
      ]
     },
     "execution_count": 32,
     "metadata": {},
     "output_type": "execute_result"
    },
    {
     "data": {
      "image/png": "[encoded data removed]",
      "text/plain": [
       "<Figure size 432x288 with 1 Axes>"
      ]
     },
     "metadata": {
      "needs_background": "light"
     },
     "output_type": "display_data"
    }
   ],
   "source": [
    "SexuponOutcome = train['SexuponOutcome'].value_counts()\n",
    "SexuponOutcome.plot(kind='bar',color=['#34ABD8'],rot=-30)"
   ]
  },
  {
   "cell_type": "code",
   "execution_count": 13,
   "metadata": {
    "scrolled": true
   },
   "outputs": [
    {
     "name": "stdout",
     "output_type": "stream",
     "text": [
      "### Missing values in Percentage to its column ###\n",
      "AnimalID          0.000000\n",
      "Name              0.287740\n",
      "DateTime          0.000000\n",
      "OutcomeType       0.000000\n",
      "OutcomeSubtype    0.509260\n",
      "AnimalType        0.000000\n",
      "SexuponOutcome    0.000037\n",
      "AgeuponOutcome    0.000673\n",
      "Breed             0.000000\n",
      "Color             0.000000\n",
      "Sex               0.000037\n",
      "dtype: float64\n",
      "### Missing values in counts ###\n",
      "AnimalID              0\n",
      "Name               7691\n",
      "DateTime              0\n",
      "OutcomeType           0\n",
      "OutcomeSubtype    13612\n",
      "AnimalType            0\n",
      "SexuponOutcome        1\n",
      "AgeuponOutcome       18\n",
      "Breed                 0\n",
      "Color                 0\n",
      "Sex                   1\n",
      "dtype: int64\n"
     ]
    }
   ],
   "source": [
    "print(\"### Missing values in Percentage to its column ###\")\n",
    "print(train.apply(lambda x: sum(x.isnull()/len(train))))\n",
    "print(\"### Missing values in counts ###\")\n",
    "print(train.apply(lambda x: sum(x.isnull())))"
   ]
  },
  {
   "cell_type": "code",
   "execution_count": 33,
   "metadata": {
    "scrolled": true
   },
   "outputs": [
    {
     "data": {
      "text/plain": [
       "AnimalID          object\n",
       "Name              object\n",
       "DateTime          object\n",
       "OutcomeType       object\n",
       "OutcomeSubtype    object\n",
       "AnimalType        object\n",
       "SexuponOutcome    object\n",
       "AgeuponOutcome    object\n",
       "Breed             object\n",
       "Color             object\n",
       "Sex               object\n",
       "dtype: object"
      ]
     },
     "execution_count": 33,
     "metadata": {},
     "output_type": "execute_result"
    }
   ],
   "source": [
    "train.dtypes"
   ]
  },
  {
   "cell_type": "code",
   "execution_count": 34,
   "metadata": {
    "scrolled": false
   },
   "outputs": [],
   "source": [
    "train['Name']=train[['Name']].fillna(value = 0)\n",
    "train['has_name']=(train['Name']!= 0).astype('int64')\n",
    "train = train.drop('Name', axis=1)"
   ]
  },
  {
   "cell_type": "code",
   "execution_count": 35,
   "metadata": {},
   "outputs": [
    {
     "data": {
      "text/plain": [
       "0        1\n",
       "1        1\n",
       "2        1\n",
       "3        0\n",
       "4        0\n",
       "5        1\n",
       "6        1\n",
       "7        0\n",
       "8        1\n",
       "9        0\n",
       "10       0\n",
       "11       0\n",
       "12       1\n",
       "13       1\n",
       "14       1\n",
       "15       1\n",
       "16       0\n",
       "17       0\n",
       "18       1\n",
       "19       1\n",
       "20       1\n",
       "21       1\n",
       "22       1\n",
       "23       1\n",
       "24       1\n",
       "25       1\n",
       "26       1\n",
       "27       1\n",
       "28       1\n",
       "29       1\n",
       "        ..\n",
       "26699    1\n",
       "26700    1\n",
       "26701    1\n",
       "26702    0\n",
       "26703    1\n",
       "26704    1\n",
       "26705    1\n",
       "26706    1\n",
       "26707    0\n",
       "26708    1\n",
       "26709    0\n",
       "26710    1\n",
       "26711    1\n",
       "26712    1\n",
       "26713    0\n",
       "26714    1\n",
       "26715    1\n",
       "26716    1\n",
       "26717    1\n",
       "26718    0\n",
       "26719    0\n",
       "26720    1\n",
       "26721    1\n",
       "26722    0\n",
       "26723    1\n",
       "26724    0\n",
       "26725    0\n",
       "26726    1\n",
       "26727    0\n",
       "26728    0\n",
       "Name: has_name, Length: 26729, dtype: int64"
      ]
     },
     "execution_count": 35,
     "metadata": {},
     "output_type": "execute_result"
    }
   ],
   "source": [
    "# created a column 'has_name'\n",
    "train[\"has_name\"]"
   ]
  },
  {
   "cell_type": "code",
   "execution_count": 36,
   "metadata": {
    "scrolled": true
   },
   "outputs": [
    {
     "data": {
      "text/plain": [
       "AnimalID          0.0\n",
       "DateTime          0.0\n",
       "OutcomeType       0.0\n",
       "OutcomeSubtype    0.0\n",
       "AnimalType        0.0\n",
       "SexuponOutcome    0.0\n",
       "AgeuponOutcome    0.0\n",
       "Breed             0.0\n",
       "Color             0.0\n",
       "Sex               0.0\n",
       "has_name          0.0\n",
       "dtype: float64"
      ]
     },
     "execution_count": 36,
     "metadata": {},
     "output_type": "execute_result"
    }
   ],
   "source": [
    "#counting NA in each column\n",
    "train = train.apply(lambda x:x.fillna(x.value_counts().index[0]))\n",
    "train.apply(lambda x: sum(x.isnull()/len(train)))\n",
    "#train.isna().sum()\n"
   ]
  },
  {
   "cell_type": "code",
   "execution_count": 37,
   "metadata": {},
   "outputs": [
    {
     "data": {
      "text/html": [
       "<div>\n",
       "<style scoped>\n",
       "    .dataframe tbody tr th:only-of-type {\n",
       "        vertical-align: middle;\n",
       "    }\n",
       "\n",
       "    .dataframe tbody tr th {\n",
       "        vertical-align: top;\n",
       "    }\n",
       "\n",
       "    .dataframe thead th {\n",
       "        text-align: right;\n",
       "    }\n",
       "</style>\n",
       "<table border=\"1\" class=\"dataframe\">\n",
       "  <thead>\n",
       "    <tr style=\"text-align: right;\">\n",
       "      <th></th>\n",
       "      <th>AnimalID</th>\n",
       "      <th>DateTime</th>\n",
       "      <th>OutcomeType</th>\n",
       "      <th>OutcomeSubtype</th>\n",
       "      <th>AnimalType</th>\n",
       "      <th>SexuponOutcome</th>\n",
       "      <th>AgeuponOutcome</th>\n",
       "      <th>Breed</th>\n",
       "      <th>Color</th>\n",
       "      <th>Sex</th>\n",
       "      <th>has_name</th>\n",
       "    </tr>\n",
       "  </thead>\n",
       "  <tbody>\n",
       "    <tr>\n",
       "      <th>0</th>\n",
       "      <td>A671945</td>\n",
       "      <td>2014-02-12 18:22:00</td>\n",
       "      <td>Return_to_owner</td>\n",
       "      <td>Partner</td>\n",
       "      <td>Dog</td>\n",
       "      <td>Neutered Male</td>\n",
       "      <td>1 year</td>\n",
       "      <td>Shetland Sheepdog Mix</td>\n",
       "      <td>Brown/White</td>\n",
       "      <td>Male</td>\n",
       "      <td>1</td>\n",
       "    </tr>\n",
       "    <tr>\n",
       "      <th>1</th>\n",
       "      <td>A656520</td>\n",
       "      <td>2013-10-13 12:44:00</td>\n",
       "      <td>Euthanasia</td>\n",
       "      <td>Suffering</td>\n",
       "      <td>Cat</td>\n",
       "      <td>Spayed Female</td>\n",
       "      <td>1 year</td>\n",
       "      <td>Domestic Shorthair Mix</td>\n",
       "      <td>Cream Tabby</td>\n",
       "      <td>Female</td>\n",
       "      <td>1</td>\n",
       "    </tr>\n",
       "    <tr>\n",
       "      <th>2</th>\n",
       "      <td>A686464</td>\n",
       "      <td>2015-01-31 12:28:00</td>\n",
       "      <td>Adoption</td>\n",
       "      <td>Foster</td>\n",
       "      <td>Dog</td>\n",
       "      <td>Neutered Male</td>\n",
       "      <td>2 years</td>\n",
       "      <td>Pit Bull Mix</td>\n",
       "      <td>Blue/White</td>\n",
       "      <td>Male</td>\n",
       "      <td>1</td>\n",
       "    </tr>\n",
       "    <tr>\n",
       "      <th>3</th>\n",
       "      <td>A683430</td>\n",
       "      <td>2014-07-11 19:09:00</td>\n",
       "      <td>Transfer</td>\n",
       "      <td>Partner</td>\n",
       "      <td>Cat</td>\n",
       "      <td>Intact Male</td>\n",
       "      <td>3 weeks</td>\n",
       "      <td>Domestic Shorthair Mix</td>\n",
       "      <td>Blue Cream</td>\n",
       "      <td>Male</td>\n",
       "      <td>0</td>\n",
       "    </tr>\n",
       "    <tr>\n",
       "      <th>4</th>\n",
       "      <td>A667013</td>\n",
       "      <td>2013-11-15 12:52:00</td>\n",
       "      <td>Transfer</td>\n",
       "      <td>Partner</td>\n",
       "      <td>Dog</td>\n",
       "      <td>Neutered Male</td>\n",
       "      <td>2 years</td>\n",
       "      <td>Lhasa Apso/Miniature Poodle</td>\n",
       "      <td>Tan</td>\n",
       "      <td>Male</td>\n",
       "      <td>0</td>\n",
       "    </tr>\n",
       "    <tr>\n",
       "      <th>5</th>\n",
       "      <td>A677334</td>\n",
       "      <td>2014-04-25 13:04:00</td>\n",
       "      <td>Transfer</td>\n",
       "      <td>Partner</td>\n",
       "      <td>Dog</td>\n",
       "      <td>Intact Female</td>\n",
       "      <td>1 month</td>\n",
       "      <td>Cairn Terrier/Chihuahua Shorthair</td>\n",
       "      <td>Black/Tan</td>\n",
       "      <td>Female</td>\n",
       "      <td>1</td>\n",
       "    </tr>\n",
       "    <tr>\n",
       "      <th>6</th>\n",
       "      <td>A699218</td>\n",
       "      <td>2015-03-28 13:11:00</td>\n",
       "      <td>Transfer</td>\n",
       "      <td>Partner</td>\n",
       "      <td>Cat</td>\n",
       "      <td>Intact Male</td>\n",
       "      <td>3 weeks</td>\n",
       "      <td>Domestic Shorthair Mix</td>\n",
       "      <td>Blue Tabby</td>\n",
       "      <td>Male</td>\n",
       "      <td>1</td>\n",
       "    </tr>\n",
       "    <tr>\n",
       "      <th>7</th>\n",
       "      <td>A701489</td>\n",
       "      <td>2015-04-30 17:02:00</td>\n",
       "      <td>Transfer</td>\n",
       "      <td>Partner</td>\n",
       "      <td>Cat</td>\n",
       "      <td>Unknown</td>\n",
       "      <td>3 weeks</td>\n",
       "      <td>Domestic Shorthair Mix</td>\n",
       "      <td>Brown Tabby</td>\n",
       "      <td>Unknown</td>\n",
       "      <td>0</td>\n",
       "    </tr>\n",
       "    <tr>\n",
       "      <th>8</th>\n",
       "      <td>A671784</td>\n",
       "      <td>2014-02-04 17:17:00</td>\n",
       "      <td>Adoption</td>\n",
       "      <td>Partner</td>\n",
       "      <td>Dog</td>\n",
       "      <td>Spayed Female</td>\n",
       "      <td>5 months</td>\n",
       "      <td>American Pit Bull Terrier Mix</td>\n",
       "      <td>Red/White</td>\n",
       "      <td>Female</td>\n",
       "      <td>1</td>\n",
       "    </tr>\n",
       "    <tr>\n",
       "      <th>9</th>\n",
       "      <td>A677747</td>\n",
       "      <td>2014-05-03 07:48:00</td>\n",
       "      <td>Adoption</td>\n",
       "      <td>Offsite</td>\n",
       "      <td>Dog</td>\n",
       "      <td>Spayed Female</td>\n",
       "      <td>1 year</td>\n",
       "      <td>Cairn Terrier</td>\n",
       "      <td>White</td>\n",
       "      <td>Female</td>\n",
       "      <td>0</td>\n",
       "    </tr>\n",
       "    <tr>\n",
       "      <th>10</th>\n",
       "      <td>A668402</td>\n",
       "      <td>2013-12-05 15:50:00</td>\n",
       "      <td>Transfer</td>\n",
       "      <td>SCRP</td>\n",
       "      <td>Cat</td>\n",
       "      <td>Unknown</td>\n",
       "      <td>2 years</td>\n",
       "      <td>Domestic Shorthair Mix</td>\n",
       "      <td>Black</td>\n",
       "      <td>Unknown</td>\n",
       "      <td>0</td>\n",
       "    </tr>\n",
       "    <tr>\n",
       "      <th>11</th>\n",
       "      <td>A666320</td>\n",
       "      <td>2013-11-04 14:48:00</td>\n",
       "      <td>Adoption</td>\n",
       "      <td>Partner</td>\n",
       "      <td>Dog</td>\n",
       "      <td>Spayed Female</td>\n",
       "      <td>2 years</td>\n",
       "      <td>Miniature Schnauzer Mix</td>\n",
       "      <td>Silver</td>\n",
       "      <td>Female</td>\n",
       "      <td>0</td>\n",
       "    </tr>\n",
       "    <tr>\n",
       "      <th>12</th>\n",
       "      <td>A684601</td>\n",
       "      <td>2016-02-03 11:27:00</td>\n",
       "      <td>Adoption</td>\n",
       "      <td>Foster</td>\n",
       "      <td>Dog</td>\n",
       "      <td>Neutered Male</td>\n",
       "      <td>4 years</td>\n",
       "      <td>Pit Bull Mix</td>\n",
       "      <td>Brown</td>\n",
       "      <td>Male</td>\n",
       "      <td>1</td>\n",
       "    </tr>\n",
       "    <tr>\n",
       "      <th>13</th>\n",
       "      <td>A704702</td>\n",
       "      <td>2015-06-08 16:30:00</td>\n",
       "      <td>Return_to_owner</td>\n",
       "      <td>Partner</td>\n",
       "      <td>Dog</td>\n",
       "      <td>Neutered Male</td>\n",
       "      <td>2 years</td>\n",
       "      <td>Yorkshire Terrier Mix</td>\n",
       "      <td>Black/Red</td>\n",
       "      <td>Male</td>\n",
       "      <td>1</td>\n",
       "    </tr>\n",
       "    <tr>\n",
       "      <th>14</th>\n",
       "      <td>A688584</td>\n",
       "      <td>2015-11-25 15:00:00</td>\n",
       "      <td>Return_to_owner</td>\n",
       "      <td>Partner</td>\n",
       "      <td>Dog</td>\n",
       "      <td>Neutered Male</td>\n",
       "      <td>1 year</td>\n",
       "      <td>Great Pyrenees Mix</td>\n",
       "      <td>White/Cream</td>\n",
       "      <td>Male</td>\n",
       "      <td>1</td>\n",
       "    </tr>\n",
       "    <tr>\n",
       "      <th>15</th>\n",
       "      <td>A678825</td>\n",
       "      <td>2014-07-12 12:10:00</td>\n",
       "      <td>Adoption</td>\n",
       "      <td>Foster</td>\n",
       "      <td>Cat</td>\n",
       "      <td>Neutered Male</td>\n",
       "      <td>3 months</td>\n",
       "      <td>Domestic Shorthair Mix</td>\n",
       "      <td>Orange Tabby/White</td>\n",
       "      <td>Male</td>\n",
       "      <td>1</td>\n",
       "    </tr>\n",
       "    <tr>\n",
       "      <th>16</th>\n",
       "      <td>A678050</td>\n",
       "      <td>2014-05-03 16:15:00</td>\n",
       "      <td>Transfer</td>\n",
       "      <td>Partner</td>\n",
       "      <td>Cat</td>\n",
       "      <td>Intact Male</td>\n",
       "      <td>3 weeks</td>\n",
       "      <td>Domestic Shorthair Mix</td>\n",
       "      <td>Brown Tabby</td>\n",
       "      <td>Male</td>\n",
       "      <td>0</td>\n",
       "    </tr>\n",
       "    <tr>\n",
       "      <th>17</th>\n",
       "      <td>A680028</td>\n",
       "      <td>2014-06-07 12:54:00</td>\n",
       "      <td>Transfer</td>\n",
       "      <td>Partner</td>\n",
       "      <td>Dog</td>\n",
       "      <td>Intact Female</td>\n",
       "      <td>2 weeks</td>\n",
       "      <td>Pit Bull Mix</td>\n",
       "      <td>Brown/White</td>\n",
       "      <td>Female</td>\n",
       "      <td>0</td>\n",
       "    </tr>\n",
       "    <tr>\n",
       "      <th>18</th>\n",
       "      <td>A679010</td>\n",
       "      <td>2014-05-17 11:32:00</td>\n",
       "      <td>Transfer</td>\n",
       "      <td>Partner</td>\n",
       "      <td>Cat</td>\n",
       "      <td>Intact Female</td>\n",
       "      <td>2 years</td>\n",
       "      <td>Angora Mix</td>\n",
       "      <td>White</td>\n",
       "      <td>Female</td>\n",
       "      <td>1</td>\n",
       "    </tr>\n",
       "    <tr>\n",
       "      <th>19</th>\n",
       "      <td>A684787</td>\n",
       "      <td>2014-07-30 17:34:00</td>\n",
       "      <td>Return_to_owner</td>\n",
       "      <td>Partner</td>\n",
       "      <td>Dog</td>\n",
       "      <td>Neutered Male</td>\n",
       "      <td>1 year</td>\n",
       "      <td>Flat Coat Retriever Mix</td>\n",
       "      <td>Black</td>\n",
       "      <td>Male</td>\n",
       "      <td>1</td>\n",
       "    </tr>\n",
       "    <tr>\n",
       "      <th>20</th>\n",
       "      <td>A670658</td>\n",
       "      <td>2014-01-19 15:03:00</td>\n",
       "      <td>Transfer</td>\n",
       "      <td>Partner</td>\n",
       "      <td>Dog</td>\n",
       "      <td>Intact Male</td>\n",
       "      <td>2 months</td>\n",
       "      <td>Queensland Heeler Mix</td>\n",
       "      <td>Black/White</td>\n",
       "      <td>Male</td>\n",
       "      <td>1</td>\n",
       "    </tr>\n",
       "    <tr>\n",
       "      <th>21</th>\n",
       "      <td>A708812</td>\n",
       "      <td>2015-09-18 15:19:00</td>\n",
       "      <td>Transfer</td>\n",
       "      <td>Partner</td>\n",
       "      <td>Cat</td>\n",
       "      <td>Spayed Female</td>\n",
       "      <td>1 year</td>\n",
       "      <td>Domestic Shorthair Mix</td>\n",
       "      <td>White</td>\n",
       "      <td>Female</td>\n",
       "      <td>1</td>\n",
       "    </tr>\n",
       "    <tr>\n",
       "      <th>22</th>\n",
       "      <td>A705262</td>\n",
       "      <td>2015-08-15 14:22:00</td>\n",
       "      <td>Adoption</td>\n",
       "      <td>Partner</td>\n",
       "      <td>Dog</td>\n",
       "      <td>Spayed Female</td>\n",
       "      <td>2 years</td>\n",
       "      <td>Plott Hound/Boxer</td>\n",
       "      <td>Brown Brindle/White</td>\n",
       "      <td>Female</td>\n",
       "      <td>1</td>\n",
       "    </tr>\n",
       "    <tr>\n",
       "      <th>23</th>\n",
       "      <td>A665781</td>\n",
       "      <td>2013-10-28 16:32:00</td>\n",
       "      <td>Adoption</td>\n",
       "      <td>Partner</td>\n",
       "      <td>Dog</td>\n",
       "      <td>Neutered Male</td>\n",
       "      <td>10 months</td>\n",
       "      <td>German Shepherd Mix</td>\n",
       "      <td>Brown/White</td>\n",
       "      <td>Male</td>\n",
       "      <td>1</td>\n",
       "    </tr>\n",
       "    <tr>\n",
       "      <th>24</th>\n",
       "      <td>A676333</td>\n",
       "      <td>2014-04-09 17:44:00</td>\n",
       "      <td>Return_to_owner</td>\n",
       "      <td>Partner</td>\n",
       "      <td>Dog</td>\n",
       "      <td>Neutered Male</td>\n",
       "      <td>2 months</td>\n",
       "      <td>German Shepherd Mix</td>\n",
       "      <td>Black/Brown</td>\n",
       "      <td>Male</td>\n",
       "      <td>1</td>\n",
       "    </tr>\n",
       "    <tr>\n",
       "      <th>25</th>\n",
       "      <td>A712750</td>\n",
       "      <td>2015-10-03 15:44:00</td>\n",
       "      <td>Transfer</td>\n",
       "      <td>Partner</td>\n",
       "      <td>Cat</td>\n",
       "      <td>Intact Female</td>\n",
       "      <td>1 month</td>\n",
       "      <td>Domestic Shorthair Mix</td>\n",
       "      <td>Orange Tabby</td>\n",
       "      <td>Female</td>\n",
       "      <td>1</td>\n",
       "    </tr>\n",
       "    <tr>\n",
       "      <th>26</th>\n",
       "      <td>A718832</td>\n",
       "      <td>2016-01-15 17:31:00</td>\n",
       "      <td>Adoption</td>\n",
       "      <td>Partner</td>\n",
       "      <td>Dog</td>\n",
       "      <td>Spayed Female</td>\n",
       "      <td>6 months</td>\n",
       "      <td>American Staffordshire Terrier Mix</td>\n",
       "      <td>Chocolate/White</td>\n",
       "      <td>Female</td>\n",
       "      <td>1</td>\n",
       "    </tr>\n",
       "    <tr>\n",
       "      <th>27</th>\n",
       "      <td>A698777</td>\n",
       "      <td>2015-03-25 18:50:00</td>\n",
       "      <td>Adoption</td>\n",
       "      <td>Partner</td>\n",
       "      <td>Dog</td>\n",
       "      <td>Spayed Female</td>\n",
       "      <td>5 years</td>\n",
       "      <td>Chihuahua Shorthair Mix</td>\n",
       "      <td>White/Tan</td>\n",
       "      <td>Female</td>\n",
       "      <td>1</td>\n",
       "    </tr>\n",
       "    <tr>\n",
       "      <th>28</th>\n",
       "      <td>A715348</td>\n",
       "      <td>2015-11-21 13:01:00</td>\n",
       "      <td>Adoption</td>\n",
       "      <td>Partner</td>\n",
       "      <td>Cat</td>\n",
       "      <td>Spayed Female</td>\n",
       "      <td>2 months</td>\n",
       "      <td>Domestic Shorthair Mix</td>\n",
       "      <td>Cream Tabby/White</td>\n",
       "      <td>Female</td>\n",
       "      <td>1</td>\n",
       "    </tr>\n",
       "    <tr>\n",
       "      <th>29</th>\n",
       "      <td>A708666</td>\n",
       "      <td>2015-07-30 14:30:00</td>\n",
       "      <td>Return_to_owner</td>\n",
       "      <td>Partner</td>\n",
       "      <td>Cat</td>\n",
       "      <td>Neutered Male</td>\n",
       "      <td>7 years</td>\n",
       "      <td>Russian Blue Mix</td>\n",
       "      <td>Blue</td>\n",
       "      <td>Male</td>\n",
       "      <td>1</td>\n",
       "    </tr>\n",
       "    <tr>\n",
       "      <th>...</th>\n",
       "      <td>...</td>\n",
       "      <td>...</td>\n",
       "      <td>...</td>\n",
       "      <td>...</td>\n",
       "      <td>...</td>\n",
       "      <td>...</td>\n",
       "      <td>...</td>\n",
       "      <td>...</td>\n",
       "      <td>...</td>\n",
       "      <td>...</td>\n",
       "      <td>...</td>\n",
       "    </tr>\n",
       "    <tr>\n",
       "      <th>26699</th>\n",
       "      <td>A676460</td>\n",
       "      <td>2014-04-21 14:01:00</td>\n",
       "      <td>Euthanasia</td>\n",
       "      <td>Behavior</td>\n",
       "      <td>Dog</td>\n",
       "      <td>Neutered Male</td>\n",
       "      <td>2 years</td>\n",
       "      <td>American Pit Bull Terrier Mix</td>\n",
       "      <td>White/Black</td>\n",
       "      <td>Male</td>\n",
       "      <td>1</td>\n",
       "    </tr>\n",
       "    <tr>\n",
       "      <th>26700</th>\n",
       "      <td>A704999</td>\n",
       "      <td>2015-06-15 19:28:00</td>\n",
       "      <td>Return_to_owner</td>\n",
       "      <td>Partner</td>\n",
       "      <td>Dog</td>\n",
       "      <td>Intact Male</td>\n",
       "      <td>10 months</td>\n",
       "      <td>Great Pyrenees/Anatol Shepherd</td>\n",
       "      <td>Tan/Cream</td>\n",
       "      <td>Male</td>\n",
       "      <td>1</td>\n",
       "    </tr>\n",
       "    <tr>\n",
       "      <th>26701</th>\n",
       "      <td>A678842</td>\n",
       "      <td>2014-06-15 17:41:00</td>\n",
       "      <td>Transfer</td>\n",
       "      <td>Partner</td>\n",
       "      <td>Dog</td>\n",
       "      <td>Intact Female</td>\n",
       "      <td>11 months</td>\n",
       "      <td>Jack Russell Terrier Mix</td>\n",
       "      <td>White/Black</td>\n",
       "      <td>Female</td>\n",
       "      <td>1</td>\n",
       "    </tr>\n",
       "    <tr>\n",
       "      <th>26702</th>\n",
       "      <td>A713637</td>\n",
       "      <td>2015-10-11 09:42:00</td>\n",
       "      <td>Died</td>\n",
       "      <td>In Kennel</td>\n",
       "      <td>Cat</td>\n",
       "      <td>Spayed Female</td>\n",
       "      <td>2 years</td>\n",
       "      <td>Siamese Mix</td>\n",
       "      <td>Lynx Point</td>\n",
       "      <td>Female</td>\n",
       "      <td>0</td>\n",
       "    </tr>\n",
       "    <tr>\n",
       "      <th>26703</th>\n",
       "      <td>A716670</td>\n",
       "      <td>2015-12-04 12:22:00</td>\n",
       "      <td>Transfer</td>\n",
       "      <td>Partner</td>\n",
       "      <td>Cat</td>\n",
       "      <td>Neutered Male</td>\n",
       "      <td>6 years</td>\n",
       "      <td>Domestic Longhair Mix</td>\n",
       "      <td>Seal Point</td>\n",
       "      <td>Male</td>\n",
       "      <td>1</td>\n",
       "    </tr>\n",
       "    <tr>\n",
       "      <th>26704</th>\n",
       "      <td>A716223</td>\n",
       "      <td>2015-11-17 17:17:00</td>\n",
       "      <td>Transfer</td>\n",
       "      <td>Partner</td>\n",
       "      <td>Cat</td>\n",
       "      <td>Intact Female</td>\n",
       "      <td>4 weeks</td>\n",
       "      <td>Domestic Shorthair Mix</td>\n",
       "      <td>White/Black</td>\n",
       "      <td>Female</td>\n",
       "      <td>1</td>\n",
       "    </tr>\n",
       "    <tr>\n",
       "      <th>26705</th>\n",
       "      <td>A662498</td>\n",
       "      <td>2013-10-19 15:34:00</td>\n",
       "      <td>Transfer</td>\n",
       "      <td>Partner</td>\n",
       "      <td>Cat</td>\n",
       "      <td>Intact Female</td>\n",
       "      <td>2 months</td>\n",
       "      <td>Domestic Shorthair Mix</td>\n",
       "      <td>Tortie</td>\n",
       "      <td>Female</td>\n",
       "      <td>1</td>\n",
       "    </tr>\n",
       "    <tr>\n",
       "      <th>26706</th>\n",
       "      <td>A689942</td>\n",
       "      <td>2014-10-19 13:29:00</td>\n",
       "      <td>Adoption</td>\n",
       "      <td>Partner</td>\n",
       "      <td>Cat</td>\n",
       "      <td>Spayed Female</td>\n",
       "      <td>2 months</td>\n",
       "      <td>Domestic Shorthair Mix</td>\n",
       "      <td>Black</td>\n",
       "      <td>Female</td>\n",
       "      <td>1</td>\n",
       "    </tr>\n",
       "    <tr>\n",
       "      <th>26707</th>\n",
       "      <td>A682690</td>\n",
       "      <td>2014-07-01 17:06:00</td>\n",
       "      <td>Euthanasia</td>\n",
       "      <td>Suffering</td>\n",
       "      <td>Cat</td>\n",
       "      <td>Unknown</td>\n",
       "      <td>1 year</td>\n",
       "      <td>Domestic Shorthair Mix</td>\n",
       "      <td>Brown Tabby</td>\n",
       "      <td>Unknown</td>\n",
       "      <td>0</td>\n",
       "    </tr>\n",
       "    <tr>\n",
       "      <th>26708</th>\n",
       "      <td>A666920</td>\n",
       "      <td>2013-11-13 17:32:00</td>\n",
       "      <td>Transfer</td>\n",
       "      <td>Partner</td>\n",
       "      <td>Dog</td>\n",
       "      <td>Neutered Male</td>\n",
       "      <td>2 years</td>\n",
       "      <td>Chihuahua Shorthair Mix</td>\n",
       "      <td>White/Brown</td>\n",
       "      <td>Male</td>\n",
       "      <td>1</td>\n",
       "    </tr>\n",
       "    <tr>\n",
       "      <th>26709</th>\n",
       "      <td>A714386</td>\n",
       "      <td>2015-10-24 00:00:00</td>\n",
       "      <td>Adoption</td>\n",
       "      <td>Partner</td>\n",
       "      <td>Dog</td>\n",
       "      <td>Spayed Female</td>\n",
       "      <td>1 month</td>\n",
       "      <td>Chihuahua Shorthair Mix</td>\n",
       "      <td>Sable/Buff</td>\n",
       "      <td>Female</td>\n",
       "      <td>0</td>\n",
       "    </tr>\n",
       "    <tr>\n",
       "      <th>26710</th>\n",
       "      <td>A692622</td>\n",
       "      <td>2014-11-24 17:21:00</td>\n",
       "      <td>Transfer</td>\n",
       "      <td>Partner</td>\n",
       "      <td>Dog</td>\n",
       "      <td>Intact Female</td>\n",
       "      <td>1 month</td>\n",
       "      <td>Chihuahua Shorthair/Yorkshire Terrier</td>\n",
       "      <td>Brown/Black</td>\n",
       "      <td>Female</td>\n",
       "      <td>1</td>\n",
       "    </tr>\n",
       "    <tr>\n",
       "      <th>26711</th>\n",
       "      <td>A666284</td>\n",
       "      <td>2013-10-30 18:32:00</td>\n",
       "      <td>Transfer</td>\n",
       "      <td>Partner</td>\n",
       "      <td>Dog</td>\n",
       "      <td>Intact Female</td>\n",
       "      <td>1 year</td>\n",
       "      <td>Cocker Spaniel/Dachshund</td>\n",
       "      <td>Buff</td>\n",
       "      <td>Female</td>\n",
       "      <td>1</td>\n",
       "    </tr>\n",
       "    <tr>\n",
       "      <th>26712</th>\n",
       "      <td>A535277</td>\n",
       "      <td>2015-04-20 16:04:00</td>\n",
       "      <td>Return_to_owner</td>\n",
       "      <td>Partner</td>\n",
       "      <td>Dog</td>\n",
       "      <td>Neutered Male</td>\n",
       "      <td>12 years</td>\n",
       "      <td>Rat Terrier</td>\n",
       "      <td>Chocolate/Tan</td>\n",
       "      <td>Male</td>\n",
       "      <td>1</td>\n",
       "    </tr>\n",
       "    <tr>\n",
       "      <th>26713</th>\n",
       "      <td>A671169</td>\n",
       "      <td>2014-01-20 17:37:00</td>\n",
       "      <td>Euthanasia</td>\n",
       "      <td>Suffering</td>\n",
       "      <td>Cat</td>\n",
       "      <td>Intact Female</td>\n",
       "      <td>18 years</td>\n",
       "      <td>Domestic Longhair Mix</td>\n",
       "      <td>Tortie</td>\n",
       "      <td>Female</td>\n",
       "      <td>0</td>\n",
       "    </tr>\n",
       "    <tr>\n",
       "      <th>26714</th>\n",
       "      <td>A679031</td>\n",
       "      <td>2014-05-31 16:11:00</td>\n",
       "      <td>Adoption</td>\n",
       "      <td>Partner</td>\n",
       "      <td>Cat</td>\n",
       "      <td>Spayed Female</td>\n",
       "      <td>2 months</td>\n",
       "      <td>Domestic Shorthair Mix</td>\n",
       "      <td>Orange Tabby</td>\n",
       "      <td>Female</td>\n",
       "      <td>1</td>\n",
       "    </tr>\n",
       "    <tr>\n",
       "      <th>26715</th>\n",
       "      <td>A708833</td>\n",
       "      <td>2015-08-05 17:03:00</td>\n",
       "      <td>Adoption</td>\n",
       "      <td>Partner</td>\n",
       "      <td>Dog</td>\n",
       "      <td>Spayed Female</td>\n",
       "      <td>2 months</td>\n",
       "      <td>Pointer Mix</td>\n",
       "      <td>Black/White</td>\n",
       "      <td>Female</td>\n",
       "      <td>1</td>\n",
       "    </tr>\n",
       "    <tr>\n",
       "      <th>26716</th>\n",
       "      <td>A697158</td>\n",
       "      <td>2015-05-02 21:04:00</td>\n",
       "      <td>Adoption</td>\n",
       "      <td>Offsite</td>\n",
       "      <td>Dog</td>\n",
       "      <td>Neutered Male</td>\n",
       "      <td>2 months</td>\n",
       "      <td>Newfoundland Mix</td>\n",
       "      <td>White/Black</td>\n",
       "      <td>Male</td>\n",
       "      <td>1</td>\n",
       "    </tr>\n",
       "    <tr>\n",
       "      <th>26717</th>\n",
       "      <td>A519949</td>\n",
       "      <td>2014-06-30 17:34:00</td>\n",
       "      <td>Return_to_owner</td>\n",
       "      <td>Partner</td>\n",
       "      <td>Dog</td>\n",
       "      <td>Spayed Female</td>\n",
       "      <td>9 years</td>\n",
       "      <td>Bullmastiff Mix</td>\n",
       "      <td>Black</td>\n",
       "      <td>Female</td>\n",
       "      <td>1</td>\n",
       "    </tr>\n",
       "    <tr>\n",
       "      <th>26718</th>\n",
       "      <td>A701044</td>\n",
       "      <td>2015-04-28 14:26:00</td>\n",
       "      <td>Adoption</td>\n",
       "      <td>Partner</td>\n",
       "      <td>Dog</td>\n",
       "      <td>Neutered Male</td>\n",
       "      <td>2 months</td>\n",
       "      <td>Siberian Husky/German Shepherd</td>\n",
       "      <td>Black/Tricolor</td>\n",
       "      <td>Male</td>\n",
       "      <td>0</td>\n",
       "    </tr>\n",
       "    <tr>\n",
       "      <th>26719</th>\n",
       "      <td>A707871</td>\n",
       "      <td>2015-07-20 09:00:00</td>\n",
       "      <td>Transfer</td>\n",
       "      <td>SCRP</td>\n",
       "      <td>Cat</td>\n",
       "      <td>Unknown</td>\n",
       "      <td>2 years</td>\n",
       "      <td>Domestic Shorthair Mix</td>\n",
       "      <td>Brown Tabby/White</td>\n",
       "      <td>Unknown</td>\n",
       "      <td>0</td>\n",
       "    </tr>\n",
       "    <tr>\n",
       "      <th>26720</th>\n",
       "      <td>A704405</td>\n",
       "      <td>2015-07-18 14:08:00</td>\n",
       "      <td>Adoption</td>\n",
       "      <td>Partner</td>\n",
       "      <td>Cat</td>\n",
       "      <td>Spayed Female</td>\n",
       "      <td>2 months</td>\n",
       "      <td>Domestic Shorthair Mix</td>\n",
       "      <td>Brown Tabby</td>\n",
       "      <td>Female</td>\n",
       "      <td>1</td>\n",
       "    </tr>\n",
       "    <tr>\n",
       "      <th>26721</th>\n",
       "      <td>A662019</td>\n",
       "      <td>2014-07-17 09:43:00</td>\n",
       "      <td>Adoption</td>\n",
       "      <td>Foster</td>\n",
       "      <td>Cat</td>\n",
       "      <td>Spayed Female</td>\n",
       "      <td>5 years</td>\n",
       "      <td>Domestic Shorthair Mix</td>\n",
       "      <td>Black</td>\n",
       "      <td>Female</td>\n",
       "      <td>1</td>\n",
       "    </tr>\n",
       "    <tr>\n",
       "      <th>26722</th>\n",
       "      <td>A687056</td>\n",
       "      <td>2014-08-31 09:00:00</td>\n",
       "      <td>Transfer</td>\n",
       "      <td>SCRP</td>\n",
       "      <td>Cat</td>\n",
       "      <td>Intact Male</td>\n",
       "      <td>5 months</td>\n",
       "      <td>Domestic Shorthair Mix</td>\n",
       "      <td>Orange Tabby</td>\n",
       "      <td>Male</td>\n",
       "      <td>0</td>\n",
       "    </tr>\n",
       "    <tr>\n",
       "      <th>26723</th>\n",
       "      <td>A716997</td>\n",
       "      <td>2016-01-29 18:52:00</td>\n",
       "      <td>Adoption</td>\n",
       "      <td>Partner</td>\n",
       "      <td>Dog</td>\n",
       "      <td>Neutered Male</td>\n",
       "      <td>6 years</td>\n",
       "      <td>Staffordshire Mix</td>\n",
       "      <td>Blue/White</td>\n",
       "      <td>Male</td>\n",
       "      <td>1</td>\n",
       "    </tr>\n",
       "    <tr>\n",
       "      <th>26724</th>\n",
       "      <td>A702446</td>\n",
       "      <td>2015-05-14 11:56:00</td>\n",
       "      <td>Transfer</td>\n",
       "      <td>Partner</td>\n",
       "      <td>Cat</td>\n",
       "      <td>Intact Male</td>\n",
       "      <td>1 month</td>\n",
       "      <td>Domestic Shorthair Mix</td>\n",
       "      <td>Brown Tabby/White</td>\n",
       "      <td>Male</td>\n",
       "      <td>0</td>\n",
       "    </tr>\n",
       "    <tr>\n",
       "      <th>26725</th>\n",
       "      <td>A718934</td>\n",
       "      <td>2016-01-20 18:59:00</td>\n",
       "      <td>Transfer</td>\n",
       "      <td>SCRP</td>\n",
       "      <td>Cat</td>\n",
       "      <td>Spayed Female</td>\n",
       "      <td>3 months</td>\n",
       "      <td>Domestic Shorthair Mix</td>\n",
       "      <td>Brown Tabby</td>\n",
       "      <td>Female</td>\n",
       "      <td>0</td>\n",
       "    </tr>\n",
       "    <tr>\n",
       "      <th>26726</th>\n",
       "      <td>A698128</td>\n",
       "      <td>2015-03-09 13:33:00</td>\n",
       "      <td>Adoption</td>\n",
       "      <td>Partner</td>\n",
       "      <td>Dog</td>\n",
       "      <td>Neutered Male</td>\n",
       "      <td>4 years</td>\n",
       "      <td>Old English Bulldog Mix</td>\n",
       "      <td>White/Tan</td>\n",
       "      <td>Male</td>\n",
       "      <td>1</td>\n",
       "    </tr>\n",
       "    <tr>\n",
       "      <th>26727</th>\n",
       "      <td>A677478</td>\n",
       "      <td>2014-04-27 12:22:00</td>\n",
       "      <td>Transfer</td>\n",
       "      <td>Partner</td>\n",
       "      <td>Cat</td>\n",
       "      <td>Intact Male</td>\n",
       "      <td>4 weeks</td>\n",
       "      <td>Domestic Shorthair Mix</td>\n",
       "      <td>Black</td>\n",
       "      <td>Male</td>\n",
       "      <td>0</td>\n",
       "    </tr>\n",
       "    <tr>\n",
       "      <th>26728</th>\n",
       "      <td>A706629</td>\n",
       "      <td>2015-07-02 09:00:00</td>\n",
       "      <td>Transfer</td>\n",
       "      <td>SCRP</td>\n",
       "      <td>Cat</td>\n",
       "      <td>Intact Male</td>\n",
       "      <td>1 year</td>\n",
       "      <td>Domestic Shorthair Mix</td>\n",
       "      <td>Brown Tabby/White</td>\n",
       "      <td>Male</td>\n",
       "      <td>0</td>\n",
       "    </tr>\n",
       "  </tbody>\n",
       "</table>\n",
       "<p>26729 rows × 11 columns</p>\n",
       "</div>"
      ],
      "text/plain": [
       "      AnimalID             DateTime      OutcomeType OutcomeSubtype  \\\n",
       "0      A671945  2014-02-12 18:22:00  Return_to_owner        Partner   \n",
       "1      A656520  2013-10-13 12:44:00       Euthanasia      Suffering   \n",
       "2      A686464  2015-01-31 12:28:00         Adoption         Foster   \n",
       "3      A683430  2014-07-11 19:09:00         Transfer        Partner   \n",
       "4      A667013  2013-11-15 12:52:00         Transfer        Partner   \n",
       "5      A677334  2014-04-25 13:04:00         Transfer        Partner   \n",
       "6      A699218  2015-03-28 13:11:00         Transfer        Partner   \n",
       "7      A701489  2015-04-30 17:02:00         Transfer        Partner   \n",
       "8      A671784  2014-02-04 17:17:00         Adoption        Partner   \n",
       "9      A677747  2014-05-03 07:48:00         Adoption        Offsite   \n",
       "10     A668402  2013-12-05 15:50:00         Transfer           SCRP   \n",
       "11     A666320  2013-11-04 14:48:00         Adoption        Partner   \n",
       "12     A684601  2016-02-03 11:27:00         Adoption         Foster   \n",
       "13     A704702  2015-06-08 16:30:00  Return_to_owner        Partner   \n",
       "14     A688584  2015-11-25 15:00:00  Return_to_owner        Partner   \n",
       "15     A678825  2014-07-12 12:10:00         Adoption         Foster   \n",
       "16     A678050  2014-05-03 16:15:00         Transfer        Partner   \n",
       "17     A680028  2014-06-07 12:54:00         Transfer        Partner   \n",
       "18     A679010  2014-05-17 11:32:00         Transfer        Partner   \n",
       "19     A684787  2014-07-30 17:34:00  Return_to_owner        Partner   \n",
       "20     A670658  2014-01-19 15:03:00         Transfer        Partner   \n",
       "21     A708812  2015-09-18 15:19:00         Transfer        Partner   \n",
       "22     A705262  2015-08-15 14:22:00         Adoption        Partner   \n",
       "23     A665781  2013-10-28 16:32:00         Adoption        Partner   \n",
       "24     A676333  2014-04-09 17:44:00  Return_to_owner        Partner   \n",
       "25     A712750  2015-10-03 15:44:00         Transfer        Partner   \n",
       "26     A718832  2016-01-15 17:31:00         Adoption        Partner   \n",
       "27     A698777  2015-03-25 18:50:00         Adoption        Partner   \n",
       "28     A715348  2015-11-21 13:01:00         Adoption        Partner   \n",
       "29     A708666  2015-07-30 14:30:00  Return_to_owner        Partner   \n",
       "...        ...                  ...              ...            ...   \n",
       "26699  A676460  2014-04-21 14:01:00       Euthanasia       Behavior   \n",
       "26700  A704999  2015-06-15 19:28:00  Return_to_owner        Partner   \n",
       "26701  A678842  2014-06-15 17:41:00         Transfer        Partner   \n",
       "26702  A713637  2015-10-11 09:42:00             Died      In Kennel   \n",
       "26703  A716670  2015-12-04 12:22:00         Transfer        Partner   \n",
       "26704  A716223  2015-11-17 17:17:00         Transfer        Partner   \n",
       "26705  A662498  2013-10-19 15:34:00         Transfer        Partner   \n",
       "26706  A689942  2014-10-19 13:29:00         Adoption        Partner   \n",
       "26707  A682690  2014-07-01 17:06:00       Euthanasia      Suffering   \n",
       "26708  A666920  2013-11-13 17:32:00         Transfer        Partner   \n",
       "26709  A714386  2015-10-24 00:00:00         Adoption        Partner   \n",
       "26710  A692622  2014-11-24 17:21:00         Transfer        Partner   \n",
       "26711  A666284  2013-10-30 18:32:00         Transfer        Partner   \n",
       "26712  A535277  2015-04-20 16:04:00  Return_to_owner        Partner   \n",
       "26713  A671169  2014-01-20 17:37:00       Euthanasia      Suffering   \n",
       "26714  A679031  2014-05-31 16:11:00         Adoption        Partner   \n",
       "26715  A708833  2015-08-05 17:03:00         Adoption        Partner   \n",
       "26716  A697158  2015-05-02 21:04:00         Adoption        Offsite   \n",
       "26717  A519949  2014-06-30 17:34:00  Return_to_owner        Partner   \n",
       "26718  A701044  2015-04-28 14:26:00         Adoption        Partner   \n",
       "26719  A707871  2015-07-20 09:00:00         Transfer           SCRP   \n",
       "26720  A704405  2015-07-18 14:08:00         Adoption        Partner   \n",
       "26721  A662019  2014-07-17 09:43:00         Adoption         Foster   \n",
       "26722  A687056  2014-08-31 09:00:00         Transfer           SCRP   \n",
       "26723  A716997  2016-01-29 18:52:00         Adoption        Partner   \n",
       "26724  A702446  2015-05-14 11:56:00         Transfer        Partner   \n",
       "26725  A718934  2016-01-20 18:59:00         Transfer           SCRP   \n",
       "26726  A698128  2015-03-09 13:33:00         Adoption        Partner   \n",
       "26727  A677478  2014-04-27 12:22:00         Transfer        Partner   \n",
       "26728  A706629  2015-07-02 09:00:00         Transfer           SCRP   \n",
       "\n",
       "      AnimalType SexuponOutcome AgeuponOutcome  \\\n",
       "0            Dog  Neutered Male         1 year   \n",
       "1            Cat  Spayed Female         1 year   \n",
       "2            Dog  Neutered Male        2 years   \n",
       "3            Cat    Intact Male        3 weeks   \n",
       "4            Dog  Neutered Male        2 years   \n",
       "5            Dog  Intact Female        1 month   \n",
       "6            Cat    Intact Male        3 weeks   \n",
       "7            Cat        Unknown        3 weeks   \n",
       "8            Dog  Spayed Female       5 months   \n",
       "9            Dog  Spayed Female         1 year   \n",
       "10           Cat        Unknown        2 years   \n",
       "11           Dog  Spayed Female        2 years   \n",
       "12           Dog  Neutered Male        4 years   \n",
       "13           Dog  Neutered Male        2 years   \n",
       "14           Dog  Neutered Male         1 year   \n",
       "15           Cat  Neutered Male       3 months   \n",
       "16           Cat    Intact Male        3 weeks   \n",
       "17           Dog  Intact Female        2 weeks   \n",
       "18           Cat  Intact Female        2 years   \n",
       "19           Dog  Neutered Male         1 year   \n",
       "20           Dog    Intact Male       2 months   \n",
       "21           Cat  Spayed Female         1 year   \n",
       "22           Dog  Spayed Female        2 years   \n",
       "23           Dog  Neutered Male      10 months   \n",
       "24           Dog  Neutered Male       2 months   \n",
       "25           Cat  Intact Female        1 month   \n",
       "26           Dog  Spayed Female       6 months   \n",
       "27           Dog  Spayed Female        5 years   \n",
       "28           Cat  Spayed Female       2 months   \n",
       "29           Cat  Neutered Male        7 years   \n",
       "...          ...            ...            ...   \n",
       "26699        Dog  Neutered Male        2 years   \n",
       "26700        Dog    Intact Male      10 months   \n",
       "26701        Dog  Intact Female      11 months   \n",
       "26702        Cat  Spayed Female        2 years   \n",
       "26703        Cat  Neutered Male        6 years   \n",
       "26704        Cat  Intact Female        4 weeks   \n",
       "26705        Cat  Intact Female       2 months   \n",
       "26706        Cat  Spayed Female       2 months   \n",
       "26707        Cat        Unknown         1 year   \n",
       "26708        Dog  Neutered Male        2 years   \n",
       "26709        Dog  Spayed Female        1 month   \n",
       "26710        Dog  Intact Female        1 month   \n",
       "26711        Dog  Intact Female         1 year   \n",
       "26712        Dog  Neutered Male       12 years   \n",
       "26713        Cat  Intact Female       18 years   \n",
       "26714        Cat  Spayed Female       2 months   \n",
       "26715        Dog  Spayed Female       2 months   \n",
       "26716        Dog  Neutered Male       2 months   \n",
       "26717        Dog  Spayed Female        9 years   \n",
       "26718        Dog  Neutered Male       2 months   \n",
       "26719        Cat        Unknown        2 years   \n",
       "26720        Cat  Spayed Female       2 months   \n",
       "26721        Cat  Spayed Female        5 years   \n",
       "26722        Cat    Intact Male       5 months   \n",
       "26723        Dog  Neutered Male        6 years   \n",
       "26724        Cat    Intact Male        1 month   \n",
       "26725        Cat  Spayed Female       3 months   \n",
       "26726        Dog  Neutered Male        4 years   \n",
       "26727        Cat    Intact Male        4 weeks   \n",
       "26728        Cat    Intact Male         1 year   \n",
       "\n",
       "                                       Breed                Color      Sex  \\\n",
       "0                      Shetland Sheepdog Mix          Brown/White     Male   \n",
       "1                     Domestic Shorthair Mix          Cream Tabby   Female   \n",
       "2                               Pit Bull Mix           Blue/White     Male   \n",
       "3                     Domestic Shorthair Mix           Blue Cream     Male   \n",
       "4                Lhasa Apso/Miniature Poodle                  Tan     Male   \n",
       "5          Cairn Terrier/Chihuahua Shorthair            Black/Tan   Female   \n",
       "6                     Domestic Shorthair Mix           Blue Tabby     Male   \n",
       "7                     Domestic Shorthair Mix          Brown Tabby  Unknown   \n",
       "8              American Pit Bull Terrier Mix            Red/White   Female   \n",
       "9                              Cairn Terrier                White   Female   \n",
       "10                    Domestic Shorthair Mix                Black  Unknown   \n",
       "11                   Miniature Schnauzer Mix               Silver   Female   \n",
       "12                              Pit Bull Mix                Brown     Male   \n",
       "13                     Yorkshire Terrier Mix            Black/Red     Male   \n",
       "14                        Great Pyrenees Mix          White/Cream     Male   \n",
       "15                    Domestic Shorthair Mix   Orange Tabby/White     Male   \n",
       "16                    Domestic Shorthair Mix          Brown Tabby     Male   \n",
       "17                              Pit Bull Mix          Brown/White   Female   \n",
       "18                                Angora Mix                White   Female   \n",
       "19                   Flat Coat Retriever Mix                Black     Male   \n",
       "20                     Queensland Heeler Mix          Black/White     Male   \n",
       "21                    Domestic Shorthair Mix                White   Female   \n",
       "22                         Plott Hound/Boxer  Brown Brindle/White   Female   \n",
       "23                       German Shepherd Mix          Brown/White     Male   \n",
       "24                       German Shepherd Mix          Black/Brown     Male   \n",
       "25                    Domestic Shorthair Mix         Orange Tabby   Female   \n",
       "26        American Staffordshire Terrier Mix      Chocolate/White   Female   \n",
       "27                   Chihuahua Shorthair Mix            White/Tan   Female   \n",
       "28                    Domestic Shorthair Mix    Cream Tabby/White   Female   \n",
       "29                          Russian Blue Mix                 Blue     Male   \n",
       "...                                      ...                  ...      ...   \n",
       "26699          American Pit Bull Terrier Mix          White/Black     Male   \n",
       "26700         Great Pyrenees/Anatol Shepherd            Tan/Cream     Male   \n",
       "26701               Jack Russell Terrier Mix          White/Black   Female   \n",
       "26702                            Siamese Mix           Lynx Point   Female   \n",
       "26703                  Domestic Longhair Mix           Seal Point     Male   \n",
       "26704                 Domestic Shorthair Mix          White/Black   Female   \n",
       "26705                 Domestic Shorthair Mix               Tortie   Female   \n",
       "26706                 Domestic Shorthair Mix                Black   Female   \n",
       "26707                 Domestic Shorthair Mix          Brown Tabby  Unknown   \n",
       "26708                Chihuahua Shorthair Mix          White/Brown     Male   \n",
       "26709                Chihuahua Shorthair Mix           Sable/Buff   Female   \n",
       "26710  Chihuahua Shorthair/Yorkshire Terrier          Brown/Black   Female   \n",
       "26711               Cocker Spaniel/Dachshund                 Buff   Female   \n",
       "26712                            Rat Terrier        Chocolate/Tan     Male   \n",
       "26713                  Domestic Longhair Mix               Tortie   Female   \n",
       "26714                 Domestic Shorthair Mix         Orange Tabby   Female   \n",
       "26715                            Pointer Mix          Black/White   Female   \n",
       "26716                       Newfoundland Mix          White/Black     Male   \n",
       "26717                        Bullmastiff Mix                Black   Female   \n",
       "26718         Siberian Husky/German Shepherd       Black/Tricolor     Male   \n",
       "26719                 Domestic Shorthair Mix    Brown Tabby/White  Unknown   \n",
       "26720                 Domestic Shorthair Mix          Brown Tabby   Female   \n",
       "26721                 Domestic Shorthair Mix                Black   Female   \n",
       "26722                 Domestic Shorthair Mix         Orange Tabby     Male   \n",
       "26723                      Staffordshire Mix           Blue/White     Male   \n",
       "26724                 Domestic Shorthair Mix    Brown Tabby/White     Male   \n",
       "26725                 Domestic Shorthair Mix          Brown Tabby   Female   \n",
       "26726                Old English Bulldog Mix            White/Tan     Male   \n",
       "26727                 Domestic Shorthair Mix                Black     Male   \n",
       "26728                 Domestic Shorthair Mix    Brown Tabby/White     Male   \n",
       "\n",
       "       has_name  \n",
       "0             1  \n",
       "1             1  \n",
       "2             1  \n",
       "3             0  \n",
       "4             0  \n",
       "5             1  \n",
       "6             1  \n",
       "7             0  \n",
       "8             1  \n",
       "9             0  \n",
       "10            0  \n",
       "11            0  \n",
       "12            1  \n",
       "13            1  \n",
       "14            1  \n",
       "15            1  \n",
       "16            0  \n",
       "17            0  \n",
       "18            1  \n",
       "19            1  \n",
       "20            1  \n",
       "21            1  \n",
       "22            1  \n",
       "23            1  \n",
       "24            1  \n",
       "25            1  \n",
       "26            1  \n",
       "27            1  \n",
       "28            1  \n",
       "29            1  \n",
       "...         ...  \n",
       "26699         1  \n",
       "26700         1  \n",
       "26701         1  \n",
       "26702         0  \n",
       "26703         1  \n",
       "26704         1  \n",
       "26705         1  \n",
       "26706         1  \n",
       "26707         0  \n",
       "26708         1  \n",
       "26709         0  \n",
       "26710         1  \n",
       "26711         1  \n",
       "26712         1  \n",
       "26713         0  \n",
       "26714         1  \n",
       "26715         1  \n",
       "26716         1  \n",
       "26717         1  \n",
       "26718         0  \n",
       "26719         0  \n",
       "26720         1  \n",
       "26721         1  \n",
       "26722         0  \n",
       "26723         1  \n",
       "26724         0  \n",
       "26725         0  \n",
       "26726         1  \n",
       "26727         0  \n",
       "26728         0  \n",
       "\n",
       "[26729 rows x 11 columns]"
      ]
     },
     "execution_count": 37,
     "metadata": {},
     "output_type": "execute_result"
    }
   ],
   "source": [
    "train"
   ]
  },
  {
   "cell_type": "code",
   "execution_count": 38,
   "metadata": {},
   "outputs": [
    {
     "name": "stdout",
     "output_type": "stream",
     "text": [
      "<class 'pandas.core.frame.DataFrame'>\n",
      "(26729, 11)\n"
     ]
    }
   ],
   "source": [
    "print(type(train))\n",
    "print(train.shape)"
   ]
  },
  {
   "cell_type": "code",
   "execution_count": 39,
   "metadata": {
    "scrolled": false
   },
   "outputs": [],
   "source": [
    "# there is no NaN in the Dataset\n",
    "#train"
   ]
  },
  {
   "cell_type": "code",
   "execution_count": 40,
   "metadata": {},
   "outputs": [
    {
     "data": {
      "text/plain": [
       "(26729, 10)"
      ]
     },
     "execution_count": 40,
     "metadata": {},
     "output_type": "execute_result"
    }
   ],
   "source": [
    "train = train.drop('AnimalID', axis=1)\n",
    "train.shape"
   ]
  },
  {
   "cell_type": "code",
   "execution_count": 41,
   "metadata": {
    "scrolled": false
   },
   "outputs": [
    {
     "name": "stdout",
     "output_type": "stream",
     "text": [
      "28\n"
     ]
    }
   ],
   "source": [
    "# creating new column 'top_colors'\n",
    "color_counts = train['Color'].value_counts()\n",
    "color_others = set(color_counts[color_counts < 300].index)\n",
    "train['top_colors'] = train['Color'].replace(list(color_others), 'Others')\n",
    "print(train['top_colors'].nunique())"
   ]
  },
  {
   "cell_type": "code",
   "execution_count": 42,
   "metadata": {},
   "outputs": [],
   "source": [
    "#colors with frequencies of lessthan 300, hence they are replaced with \"others\"\n",
    "#color_others"
   ]
  },
  {
   "cell_type": "code",
   "execution_count": 43,
   "metadata": {
    "scrolled": false
   },
   "outputs": [
    {
     "name": "stdout",
     "output_type": "stream",
     "text": [
      "Brown/White\n",
      "Others\n",
      "Blue/White\n",
      "Tan\n",
      "Black/Tan\n",
      "Blue Tabby\n",
      "Brown Tabby\n",
      "Red/White\n",
      "White\n",
      "Black\n",
      "Brown\n",
      "Orange Tabby/White\n",
      "Black/White\n",
      "Brown Brindle/White\n",
      "Black/Brown\n",
      "Orange Tabby\n",
      "White/Tan\n",
      "Blue\n",
      "Calico\n",
      "Torbie\n",
      "Brown/Black\n",
      "Tricolor\n",
      "White/Black\n",
      "Tortie\n",
      "Tan/White\n",
      "Brown Tabby/White\n",
      "Red\n",
      "White/Brown\n"
     ]
    }
   ],
   "source": [
    "#colours with the frequency of more than 300\n",
    "c = train['top_colors'].unique()\n",
    "for i in c:\n",
    "    print(i)"
   ]
  },
  {
   "cell_type": "code",
   "execution_count": 44,
   "metadata": {},
   "outputs": [],
   "source": [
    "# Breed column before. in the next cell its gonna under-go through some changes\n",
    "#train.Breed"
   ]
  },
  {
   "cell_type": "code",
   "execution_count": 45,
   "metadata": {},
   "outputs": [],
   "source": [
    "# created new column 'breed_type'\n",
    "#to change the values of the 'Breed' column into 'Mix' or 'Pure'\n",
    "import re\n",
    "train['breed_type'] = train.Breed.str.extract('({})'.format('|'.join(['Mix'])), flags=re.IGNORECASE,\n",
    "                                              expand=False).str.lower().fillna('pure')"
   ]
  },
  {
   "cell_type": "code",
   "execution_count": 46,
   "metadata": {},
   "outputs": [
    {
     "data": {
      "text/plain": [
       "0     mix\n",
       "1     mix\n",
       "2     mix\n",
       "3     mix\n",
       "4    pure\n",
       "Name: breed_type, dtype: object"
      ]
     },
     "execution_count": 46,
     "metadata": {},
     "output_type": "execute_result"
    }
   ],
   "source": [
    "train['breed_type'].head()"
   ]
  },
  {
   "cell_type": "code",
   "execution_count": 47,
   "metadata": {},
   "outputs": [],
   "source": [
    "#creating a new column to state that whether the animal is multi-colored or not\n",
    "train['multi_colors'] = train['Color'].apply(lambda x : 1 if '/' in x else 0)\n",
    "#train['multi_colors']"
   ]
  },
  {
   "cell_type": "code",
   "execution_count": 48,
   "metadata": {},
   "outputs": [],
   "source": [
    "# regularizing periods (Age of the animal into days).\n",
    "def age_converter(row):\n",
    "    age_string = row['AgeuponOutcome']\n",
    "    [age,unit] = age_string.split(\" \")\n",
    "    unit = unit.lower()\n",
    "    if(\"day\" in unit):\n",
    "        if age=='0': return 1\n",
    "        return int(age)\n",
    "    if(\"week\" in unit):\n",
    "        if(age)=='0': return 7\n",
    "        return int(age)*7\n",
    "    if(\"month\" in unit):\n",
    "        if(age)=='0': return 30\n",
    "        return int(age) * 4*7\n",
    "    elif(\"year\" in unit):\n",
    "        if(age)=='0': return 365\n",
    "        return int(age) * 4*12*7\n",
    "train['age_numeric'] = train.apply(age_converter, axis=1)\n",
    "train = train.drop('AgeuponOutcome', axis=1)"
   ]
  },
  {
   "cell_type": "code",
   "execution_count": 49,
   "metadata": {
    "scrolled": true
   },
   "outputs": [
    {
     "data": {
      "text/plain": [
       "0    336\n",
       "1    336\n",
       "2    672\n",
       "3     21\n",
       "4    672\n",
       "Name: age_numeric, dtype: int64"
      ]
     },
     "execution_count": 49,
     "metadata": {},
     "output_type": "execute_result"
    }
   ],
   "source": [
    "# created a column for age_numeric\n",
    "train['age_numeric'].head()"
   ]
  },
  {
   "cell_type": "code",
   "execution_count": 50,
   "metadata": {},
   "outputs": [],
   "source": [
    "# Dropping few columns\n",
    "train = train.drop(['Breed','Color','DateTime'], axis=1)"
   ]
  },
  {
   "cell_type": "code",
   "execution_count": 51,
   "metadata": {},
   "outputs": [
    {
     "name": "stdout",
     "output_type": "stream",
     "text": [
      "Index(['has_name', 'multi_colors', 'age_numeric'], dtype='object')\n",
      "Index(['OutcomeSubtype', 'AnimalType', 'SexuponOutcome', 'Sex', 'top_colors',\n",
      "       'breed_type'],\n",
      "      dtype='object')\n"
     ]
    }
   ],
   "source": [
    "# distingishing Numerical & Categorical features\n",
    "numeric_features = train.select_dtypes(include=['int64', 'float64']).columns\n",
    "print(numeric_features)\n",
    "categorical_features = train.select_dtypes(include=['object']).drop(['OutcomeType'], axis=1).columns\n",
    "print(categorical_features)"
   ]
  },
  {
   "cell_type": "code",
   "execution_count": 33,
   "metadata": {},
   "outputs": [],
   "source": [
    "# using pandas get_dummies (OHE) to convert all categorical variable.\n",
    "dummy_columns = pd.get_dummies(train[categorical_features])"
   ]
  },
  {
   "cell_type": "code",
   "execution_count": 34,
   "metadata": {},
   "outputs": [],
   "source": [
    "# concat dummy_columns and train\n",
    "# dropping 'AnimalType', 'breed_type','SexuponOutcome', 'top_colors'.\n",
    "final_train = pd.concat([dummy_columns, train],axis=1)\n",
    "final_train = final_train.drop(['AnimalType', 'breed_type', 'SexuponOutcome', 'top_colors', 'OutcomeSubtype'], axis=1)"
   ]
  },
  {
   "cell_type": "code",
   "execution_count": 35,
   "metadata": {},
   "outputs": [],
   "source": [
    "# Splitting dataset\n",
    "X = final_train.drop('OutcomeType', axis=1)\n",
    "y = final_train['OutcomeType']\n",
    "\n",
    "from sklearn.model_selection import train_test_split\n",
    "\n",
    "X_train, X_test, y_train, y_test = train_test_split(X, y, test_size=0.20, random_state=1)"
   ]
  },
  {
   "cell_type": "code",
   "execution_count": 36,
   "metadata": {
    "scrolled": true
   },
   "outputs": [
    {
     "ename": "ValueError",
     "evalue": "could not convert string to float: 'Male'",
     "output_type": "error",
     "traceback": [
      "\u001b[1;31m---------------------------------------------------------------------------\u001b[0m",
      "\u001b[1;31mValueError\u001b[0m                                Traceback (most recent call last)",
      "\u001b[1;32m<ipython-input-36-bdcfdeb1cbf8>\u001b[0m in \u001b[0;36m<module>\u001b[1;34m()\u001b[0m\n\u001b[0;32m      6\u001b[0m clf = RandomForestClassifier(n_estimators=100, max_depth=2,\n\u001b[0;32m      7\u001b[0m                             random_state=0)\n\u001b[1;32m----> 8\u001b[1;33m \u001b[0mrf_model\u001b[0m \u001b[1;33m=\u001b[0m \u001b[0mclf\u001b[0m\u001b[1;33m.\u001b[0m\u001b[0mfit\u001b[0m\u001b[1;33m(\u001b[0m\u001b[0mX_train\u001b[0m\u001b[1;33m,\u001b[0m \u001b[0my_train\u001b[0m\u001b[1;33m)\u001b[0m\u001b[1;33m\u001b[0m\u001b[0m\n\u001b[0m\u001b[0;32m      9\u001b[0m \u001b[0my_pred\u001b[0m \u001b[1;33m=\u001b[0m \u001b[0mclf\u001b[0m\u001b[1;33m.\u001b[0m\u001b[0mpredict\u001b[0m\u001b[1;33m(\u001b[0m\u001b[0mX_test\u001b[0m\u001b[1;33m)\u001b[0m\u001b[1;33m\u001b[0m\u001b[0m\n\u001b[0;32m     10\u001b[0m \u001b[0mprint\u001b[0m\u001b[1;33m(\u001b[0m\u001b[0maccuracy_score\u001b[0m\u001b[1;33m(\u001b[0m\u001b[0my_test\u001b[0m\u001b[1;33m,\u001b[0m\u001b[0my_pred\u001b[0m\u001b[1;33m)\u001b[0m\u001b[1;33m)\u001b[0m\u001b[1;33m\u001b[0m\u001b[0m\n",
      "\u001b[1;32m~\\Anaconda3\\lib\\site-packages\\sklearn\\ensemble\\forest.py\u001b[0m in \u001b[0;36mfit\u001b[1;34m(self, X, y, sample_weight)\u001b[0m\n\u001b[0;32m    248\u001b[0m \u001b[1;33m\u001b[0m\u001b[0m\n\u001b[0;32m    249\u001b[0m         \u001b[1;31m# Validate or convert input data\u001b[0m\u001b[1;33m\u001b[0m\u001b[1;33m\u001b[0m\u001b[0m\n\u001b[1;32m--> 250\u001b[1;33m         \u001b[0mX\u001b[0m \u001b[1;33m=\u001b[0m \u001b[0mcheck_array\u001b[0m\u001b[1;33m(\u001b[0m\u001b[0mX\u001b[0m\u001b[1;33m,\u001b[0m \u001b[0maccept_sparse\u001b[0m\u001b[1;33m=\u001b[0m\u001b[1;34m\"csc\"\u001b[0m\u001b[1;33m,\u001b[0m \u001b[0mdtype\u001b[0m\u001b[1;33m=\u001b[0m\u001b[0mDTYPE\u001b[0m\u001b[1;33m)\u001b[0m\u001b[1;33m\u001b[0m\u001b[0m\n\u001b[0m\u001b[0;32m    251\u001b[0m         \u001b[0my\u001b[0m \u001b[1;33m=\u001b[0m \u001b[0mcheck_array\u001b[0m\u001b[1;33m(\u001b[0m\u001b[0my\u001b[0m\u001b[1;33m,\u001b[0m \u001b[0maccept_sparse\u001b[0m\u001b[1;33m=\u001b[0m\u001b[1;34m'csc'\u001b[0m\u001b[1;33m,\u001b[0m \u001b[0mensure_2d\u001b[0m\u001b[1;33m=\u001b[0m\u001b[1;32mFalse\u001b[0m\u001b[1;33m,\u001b[0m \u001b[0mdtype\u001b[0m\u001b[1;33m=\u001b[0m\u001b[1;32mNone\u001b[0m\u001b[1;33m)\u001b[0m\u001b[1;33m\u001b[0m\u001b[0m\n\u001b[0;32m    252\u001b[0m         \u001b[1;32mif\u001b[0m \u001b[0msample_weight\u001b[0m \u001b[1;32mis\u001b[0m \u001b[1;32mnot\u001b[0m \u001b[1;32mNone\u001b[0m\u001b[1;33m:\u001b[0m\u001b[1;33m\u001b[0m\u001b[0m\n",
      "\u001b[1;32m~\\Anaconda3\\lib\\site-packages\\sklearn\\utils\\validation.py\u001b[0m in \u001b[0;36mcheck_array\u001b[1;34m(array, accept_sparse, accept_large_sparse, dtype, order, copy, force_all_finite, ensure_2d, allow_nd, ensure_min_samples, ensure_min_features, warn_on_dtype, estimator)\u001b[0m\n\u001b[0;32m    525\u001b[0m             \u001b[1;32mtry\u001b[0m\u001b[1;33m:\u001b[0m\u001b[1;33m\u001b[0m\u001b[0m\n\u001b[0;32m    526\u001b[0m                 \u001b[0mwarnings\u001b[0m\u001b[1;33m.\u001b[0m\u001b[0msimplefilter\u001b[0m\u001b[1;33m(\u001b[0m\u001b[1;34m'error'\u001b[0m\u001b[1;33m,\u001b[0m \u001b[0mComplexWarning\u001b[0m\u001b[1;33m)\u001b[0m\u001b[1;33m\u001b[0m\u001b[0m\n\u001b[1;32m--> 527\u001b[1;33m                 \u001b[0marray\u001b[0m \u001b[1;33m=\u001b[0m \u001b[0mnp\u001b[0m\u001b[1;33m.\u001b[0m\u001b[0masarray\u001b[0m\u001b[1;33m(\u001b[0m\u001b[0marray\u001b[0m\u001b[1;33m,\u001b[0m \u001b[0mdtype\u001b[0m\u001b[1;33m=\u001b[0m\u001b[0mdtype\u001b[0m\u001b[1;33m,\u001b[0m \u001b[0morder\u001b[0m\u001b[1;33m=\u001b[0m\u001b[0morder\u001b[0m\u001b[1;33m)\u001b[0m\u001b[1;33m\u001b[0m\u001b[0m\n\u001b[0m\u001b[0;32m    528\u001b[0m             \u001b[1;32mexcept\u001b[0m \u001b[0mComplexWarning\u001b[0m\u001b[1;33m:\u001b[0m\u001b[1;33m\u001b[0m\u001b[0m\n\u001b[0;32m    529\u001b[0m                 raise ValueError(\"Complex data not supported\\n\"\n",
      "\u001b[1;32m~\\Anaconda3\\lib\\site-packages\\numpy\\core\\numeric.py\u001b[0m in \u001b[0;36masarray\u001b[1;34m(a, dtype, order)\u001b[0m\n\u001b[0;32m    499\u001b[0m \u001b[1;33m\u001b[0m\u001b[0m\n\u001b[0;32m    500\u001b[0m     \"\"\"\n\u001b[1;32m--> 501\u001b[1;33m     \u001b[1;32mreturn\u001b[0m \u001b[0marray\u001b[0m\u001b[1;33m(\u001b[0m\u001b[0ma\u001b[0m\u001b[1;33m,\u001b[0m \u001b[0mdtype\u001b[0m\u001b[1;33m,\u001b[0m \u001b[0mcopy\u001b[0m\u001b[1;33m=\u001b[0m\u001b[1;32mFalse\u001b[0m\u001b[1;33m,\u001b[0m \u001b[0morder\u001b[0m\u001b[1;33m=\u001b[0m\u001b[0morder\u001b[0m\u001b[1;33m)\u001b[0m\u001b[1;33m\u001b[0m\u001b[0m\n\u001b[0m\u001b[0;32m    502\u001b[0m \u001b[1;33m\u001b[0m\u001b[0m\n\u001b[0;32m    503\u001b[0m \u001b[1;33m\u001b[0m\u001b[0m\n",
      "\u001b[1;31mValueError\u001b[0m: could not convert string to float: 'Male'"
     ]
    }
   ],
   "source": [
    "# using simple RandomForestClassifier\n",
    "\n",
    "from sklearn.ensemble import RandomForestClassifier\n",
    "from sklearn.metrics import accuracy_score, log_loss\n",
    "\n",
    "clf = RandomForestClassifier(n_estimators=100, max_depth=2,\n",
    "                            random_state=0)\n",
    "rf_model = clf.fit(X_train, y_train)\n",
    "y_pred = clf.predict(X_test)\n",
    "print(accuracy_score(y_test,y_pred))\n",
    "y_prob = rf_model.predict_proba(X_test)\n",
    "print(log_loss(y_test, y_prob))"
   ]
  },
  {
   "cell_type": "code",
   "execution_count": 37,
   "metadata": {
    "scrolled": false
   },
   "outputs": [
    {
     "ename": "NameError",
     "evalue": "name 'rf_model' is not defined",
     "output_type": "error",
     "traceback": [
      "\u001b[1;31m---------------------------------------------------------------------------\u001b[0m",
      "\u001b[1;31mNameError\u001b[0m                                 Traceback (most recent call last)",
      "\u001b[1;32m<ipython-input-37-1b7cc134f4eb>\u001b[0m in \u001b[0;36m<module>\u001b[1;34m()\u001b[0m\n\u001b[0;32m      1\u001b[0m \u001b[1;31m# lets improve the accuracy by feature selection\u001b[0m\u001b[1;33m\u001b[0m\u001b[1;33m\u001b[0m\u001b[0m\n\u001b[0;32m      2\u001b[0m \u001b[0mfeatures\u001b[0m \u001b[1;33m=\u001b[0m \u001b[0mX\u001b[0m\u001b[1;33m.\u001b[0m\u001b[0mcolumns\u001b[0m\u001b[1;33m\u001b[0m\u001b[0m\n\u001b[1;32m----> 3\u001b[1;33m \u001b[0mimportances\u001b[0m \u001b[1;33m=\u001b[0m \u001b[0mrf_model\u001b[0m\u001b[1;33m.\u001b[0m\u001b[0mfeature_importances_\u001b[0m \u001b[1;31m# doubt in the syntax\u001b[0m\u001b[1;33m\u001b[0m\u001b[0m\n\u001b[0m\u001b[0;32m      4\u001b[0m \u001b[0mindices\u001b[0m \u001b[1;33m=\u001b[0m \u001b[0mnp\u001b[0m\u001b[1;33m.\u001b[0m\u001b[0margsort\u001b[0m\u001b[1;33m(\u001b[0m\u001b[0mimportances\u001b[0m\u001b[1;33m)\u001b[0m\u001b[1;33m\u001b[0m\u001b[0m\n\u001b[0;32m      5\u001b[0m \u001b[0mplt\u001b[0m\u001b[1;33m.\u001b[0m\u001b[0mfigure\u001b[0m\u001b[1;33m(\u001b[0m\u001b[0mfigsize\u001b[0m \u001b[1;33m=\u001b[0m \u001b[1;33m(\u001b[0m\u001b[1;36m10\u001b[0m\u001b[1;33m,\u001b[0m\u001b[1;36m20\u001b[0m\u001b[1;33m)\u001b[0m\u001b[1;33m)\u001b[0m\u001b[1;33m\u001b[0m\u001b[0m\n",
      "\u001b[1;31mNameError\u001b[0m: name 'rf_model' is not defined"
     ]
    }
   ],
   "source": [
    "# lets improve the accuracy by feature selection\n",
    "features = X.columns\n",
    "importances = rf_model.feature_importances_ # doubt in the syntax\n",
    "indices = np.argsort(importances)\n",
    "plt.figure(figsize = (10,20))\n",
    "plt.title('Feature Importances')\n",
    "plt.barh(range(len(indices)), importances[indices], color='G', align = 'center')\n",
    "plt.yticks(range(len(indices)), features[indices])\n",
    "plt.xlabel('Relative Importance')\n",
    "plt.show"
   ]
  },
  {
   "cell_type": "code",
   "execution_count": 38,
   "metadata": {
    "scrolled": true
   },
   "outputs": [
    {
     "ename": "SyntaxError",
     "evalue": "unexpected EOF while parsing (<ipython-input-38-e333c49ff34c>, line 3)",
     "output_type": "error",
     "traceback": [
      "\u001b[1;36m  File \u001b[1;32m\"<ipython-input-38-e333c49ff34c>\"\u001b[1;36m, line \u001b[1;32m3\u001b[0m\n\u001b[1;33m    #    print(col)\u001b[0m\n\u001b[1;37m                   ^\u001b[0m\n\u001b[1;31mSyntaxError\u001b[0m\u001b[1;31m:\u001b[0m unexpected EOF while parsing\n"
     ]
    }
   ],
   "source": [
    "cols = final_train.columns\n",
    "for col in cols:\n",
    "#    print(col)"
   ]
  },
  {
   "cell_type": "code",
   "execution_count": 39,
   "metadata": {},
   "outputs": [],
   "source": [
    "new_train = final_train[['has_name','age_numeric','SexuponOutcome_Intact Female','SexuponOutcome_Intact Male',\n",
    "'SexuponOutcome_Spayed Female','AnimalType_Dog','SexuponOutcome_Neutered Male','AnimalType_Cat','OutcomeType','SexuponOutcome_Unknown']]"
   ]
  },
  {
   "cell_type": "code",
   "execution_count": 40,
   "metadata": {},
   "outputs": [],
   "source": [
    "# Splitting dataset\n",
    "X = new_train.drop('OutcomeType', axis=1)\n",
    "y = new_train['OutcomeType']\n",
    "\n",
    "from sklearn.model_selection import train_test_split\n",
    "\n",
    "X_train, X_test, y_train, y_test = train_test_split(X, y, test_size=0.20, random_state=1)"
   ]
  },
  {
   "cell_type": "code",
   "execution_count": 41,
   "metadata": {},
   "outputs": [
    {
     "name": "stdout",
     "output_type": "stream",
     "text": [
      "0.5914702581369248\n",
      "1.0351655141730811\n"
     ]
    }
   ],
   "source": [
    "# using simple RandomForestClassifier\n",
    "\n",
    "from sklearn.ensemble import RandomForestClassifier\n",
    "from sklearn.metrics import accuracy_score, log_loss\n",
    "\n",
    "clf = RandomForestClassifier(n_estimators=100, max_depth=2,\n",
    "                            random_state=0)\n",
    "rf_model = clf.fit(X_train, y_train)\n",
    "y_pred = clf.predict(X_test)\n",
    "print(accuracy_score(y_test,y_pred))\n",
    "y_prob = rf_model.predict_proba(X_test)\n",
    "print(log_loss(y_test, y_prob))"
   ]
  },
  {
   "cell_type": "code",
   "execution_count": 42,
   "metadata": {},
   "outputs": [],
   "source": [
    "###################################"
   ]
  },
  {
   "cell_type": "code",
   "execution_count": 43,
   "metadata": {},
   "outputs": [
    {
     "data": {
      "text/plain": [
       "AnimalID              0\n",
       "Name               7691\n",
       "DateTime              0\n",
       "OutcomeType           0\n",
       "OutcomeSubtype    13612\n",
       "AnimalType            0\n",
       "SexuponOutcome        1\n",
       "AgeuponOutcome       18\n",
       "Breed                 0\n",
       "Color                 0\n",
       "dtype: int64"
      ]
     },
     "execution_count": 43,
     "metadata": {},
     "output_type": "execute_result"
    }
   ],
   "source": [
    "nw_train = pd.read_csv('train.csv')\n",
    "#nw_train.info()\n",
    "nw_train.isna().sum()"
   ]
  },
  {
   "cell_type": "code",
   "execution_count": 44,
   "metadata": {},
   "outputs": [],
   "source": [
    "n_train = nw_train[['Name','AgeuponOutcome','SexuponOutcome','AnimalType','Breed','Color','OutcomeType','DateTime','OutcomeSubtype']]"
   ]
  },
  {
   "cell_type": "code",
   "execution_count": 45,
   "metadata": {
    "scrolled": true
   },
   "outputs": [],
   "source": [
    "#n_train['OutcomeSubtype'].value_counts()"
   ]
  },
  {
   "cell_type": "code",
   "execution_count": 46,
   "metadata": {},
   "outputs": [],
   "source": [
    "#n_train['DateTime'].value_counts()"
   ]
  },
  {
   "cell_type": "code",
   "execution_count": 47,
   "metadata": {},
   "outputs": [
    {
     "name": "stderr",
     "output_type": "stream",
     "text": [
      "C:\\Users\\dell\\Anaconda3\\lib\\site-packages\\ipykernel_launcher.py:1: SettingWithCopyWarning: \n",
      "A value is trying to be set on a copy of a slice from a DataFrame.\n",
      "Try using .loc[row_indexer,col_indexer] = value instead\n",
      "\n",
      "See the caveats in the documentation: http://pandas.pydata.org/pandas-docs/stable/indexing.html#indexing-view-versus-copy\n",
      "  \"\"\"Entry point for launching an IPython kernel.\n"
     ]
    }
   ],
   "source": [
    "n_train['Name']=n_train[['Name']].fillna(value = 0)\n",
    "n_train['has_name']=(n_train['Name']!= 0).astype('int64')\n",
    "n_train = n_train.drop('Name', axis=1)"
   ]
  },
  {
   "cell_type": "code",
   "execution_count": 48,
   "metadata": {},
   "outputs": [
    {
     "data": {
      "text/plain": [
       "AgeuponOutcome    0.0\n",
       "SexuponOutcome    0.0\n",
       "AnimalType        0.0\n",
       "Breed             0.0\n",
       "Color             0.0\n",
       "OutcomeType       0.0\n",
       "DateTime          0.0\n",
       "OutcomeSubtype    0.0\n",
       "has_name          0.0\n",
       "dtype: float64"
      ]
     },
     "execution_count": 48,
     "metadata": {},
     "output_type": "execute_result"
    }
   ],
   "source": [
    "#counting NA in each column after filling na\n",
    "n_train = n_train.apply(lambda x:x.fillna(x.value_counts().index[0]))\n",
    "n_train.apply(lambda x: sum(x.isnull()/len(n_train)))"
   ]
  },
  {
   "cell_type": "code",
   "execution_count": 49,
   "metadata": {},
   "outputs": [],
   "source": [
    "# regularizing periods (Age of the animal into days).\n",
    "def age_converter(row):\n",
    "    age_string = row['AgeuponOutcome']\n",
    "    [age,unit] = age_string.split(\" \")\n",
    "    unit = unit.lower()\n",
    "    if(\"day\" in unit):\n",
    "        if age=='0': return 1\n",
    "        return int(age)\n",
    "    if(\"week\" in unit):\n",
    "        if(age)=='0': return 7\n",
    "        return int(age)*7\n",
    "    if(\"month\" in unit):\n",
    "        if(age)=='0': return 30\n",
    "        return int(age) * 4*7\n",
    "    elif(\"year\" in unit):\n",
    "        if(age)=='0': return 365\n",
    "        return int(age) * 4*12*7\n",
    "n_train['age_numeric'] = n_train.apply(age_converter, axis=1)\n",
    "n_train = n_train.drop('AgeuponOutcome', axis=1)"
   ]
  },
  {
   "cell_type": "code",
   "execution_count": 50,
   "metadata": {
    "scrolled": true
   },
   "outputs": [
    {
     "name": "stdout",
     "output_type": "stream",
     "text": [
      "SexuponOutcome\n",
      "AnimalType\n",
      "Breed\n",
      "Color\n",
      "OutcomeType\n",
      "DateTime\n",
      "OutcomeSubtype\n",
      "has_name\n",
      "age_numeric\n"
     ]
    }
   ],
   "source": [
    "cols = n_train.columns\n",
    "for col in cols:\n",
    "    print(col)"
   ]
  },
  {
   "cell_type": "code",
   "execution_count": 51,
   "metadata": {
    "scrolled": false
   },
   "outputs": [
    {
     "name": "stdout",
     "output_type": "stream",
     "text": [
      "Index(['has_name', 'multi_colors', 'age_numeric'], dtype='object')\n",
      "Index(['OutcomeSubtype', 'AnimalType', 'SexuponOutcome', 'Sex', 'top_colors',\n",
      "       'breed_type'],\n",
      "      dtype='object')\n"
     ]
    }
   ],
   "source": [
    "num_features = n_train.select_dtypes(include=['int64', 'float64']).columns\n",
    "print(numeric_features)\n",
    "cate_features = n_train.select_dtypes(include=['object']).drop(['OutcomeType'], axis=1).columns\n",
    "print(categorical_features)"
   ]
  },
  {
   "cell_type": "code",
   "execution_count": 52,
   "metadata": {},
   "outputs": [],
   "source": [
    "dummy_cols = pd.get_dummies(n_train[cate_features])"
   ]
  },
  {
   "cell_type": "code",
   "execution_count": 53,
   "metadata": {},
   "outputs": [],
   "source": [
    "finl_train = pd.concat([dummy_cols, n_train],axis=1)\n",
    "finl_train = finl_train.drop(['AnimalType', 'Breed', 'SexuponOutcome', 'Color', 'OutcomeSubtype', 'DateTime'], axis=1)"
   ]
  },
  {
   "cell_type": "code",
   "execution_count": 54,
   "metadata": {},
   "outputs": [],
   "source": [
    "# Splitting dataset\n",
    "X = finl_train.drop('OutcomeType', axis=1)\n",
    "y = finl_train['OutcomeType']\n",
    "\n",
    "from sklearn.model_selection import train_test_split\n",
    "\n",
    "X_train, X_test, y_train, y_test = train_test_split(X, y, test_size=0.20, random_state=1)"
   ]
  },
  {
   "cell_type": "code",
   "execution_count": 66,
   "metadata": {
    "scrolled": false
   },
   "outputs": [
    {
     "name": "stdout",
     "output_type": "stream",
     "text": [
      "0.6950991395435839\n"
     ]
    },
    {
     "ename": "ValueError",
     "evalue": "Found input variables with inconsistent numbers of samples: [21383, 5346]",
     "output_type": "error",
     "traceback": [
      "\u001b[1;31m---------------------------------------------------------------------------\u001b[0m",
      "\u001b[1;31mValueError\u001b[0m                                Traceback (most recent call last)",
      "\u001b[1;32m<ipython-input-66-6f9805471345>\u001b[0m in \u001b[0;36m<module>\u001b[1;34m()\u001b[0m\n\u001b[0;32m      9\u001b[0m \u001b[0my_pred\u001b[0m \u001b[1;33m=\u001b[0m \u001b[0mclf\u001b[0m\u001b[1;33m.\u001b[0m\u001b[0mpredict\u001b[0m\u001b[1;33m(\u001b[0m\u001b[0mX_test\u001b[0m\u001b[1;33m)\u001b[0m\u001b[1;33m\u001b[0m\u001b[0m\n\u001b[0;32m     10\u001b[0m \u001b[0mprint\u001b[0m\u001b[1;33m(\u001b[0m\u001b[0maccuracy_score\u001b[0m\u001b[1;33m(\u001b[0m\u001b[0my_test\u001b[0m\u001b[1;33m,\u001b[0m\u001b[0my_pred\u001b[0m\u001b[1;33m)\u001b[0m\u001b[1;33m)\u001b[0m\u001b[1;33m\u001b[0m\u001b[0m\n\u001b[1;32m---> 11\u001b[1;33m \u001b[0mprint\u001b[0m\u001b[1;33m(\u001b[0m\u001b[0maccuracy_score\u001b[0m\u001b[1;33m(\u001b[0m\u001b[0my_train\u001b[0m\u001b[1;33m,\u001b[0m\u001b[0my_pred\u001b[0m\u001b[1;33m)\u001b[0m\u001b[1;33m)\u001b[0m\u001b[1;33m\u001b[0m\u001b[0m\n\u001b[0m\u001b[0;32m     12\u001b[0m \u001b[0my_prob\u001b[0m \u001b[1;33m=\u001b[0m \u001b[0mrf_model\u001b[0m\u001b[1;33m.\u001b[0m\u001b[0mpredict_proba\u001b[0m\u001b[1;33m(\u001b[0m\u001b[0mX_test\u001b[0m\u001b[1;33m)\u001b[0m\u001b[1;33m\u001b[0m\u001b[0m\n\u001b[0;32m     13\u001b[0m \u001b[0mprint\u001b[0m\u001b[1;33m(\u001b[0m\u001b[0mlog_loss\u001b[0m\u001b[1;33m(\u001b[0m\u001b[0my_test\u001b[0m\u001b[1;33m,\u001b[0m \u001b[0my_prob\u001b[0m\u001b[1;33m)\u001b[0m\u001b[1;33m)\u001b[0m\u001b[1;33m\u001b[0m\u001b[0m\n",
      "\u001b[1;32m~\\Anaconda3\\lib\\site-packages\\sklearn\\metrics\\classification.py\u001b[0m in \u001b[0;36maccuracy_score\u001b[1;34m(y_true, y_pred, normalize, sample_weight)\u001b[0m\n\u001b[0;32m    174\u001b[0m \u001b[1;33m\u001b[0m\u001b[0m\n\u001b[0;32m    175\u001b[0m     \u001b[1;31m# Compute accuracy for each possible representation\u001b[0m\u001b[1;33m\u001b[0m\u001b[1;33m\u001b[0m\u001b[0m\n\u001b[1;32m--> 176\u001b[1;33m     \u001b[0my_type\u001b[0m\u001b[1;33m,\u001b[0m \u001b[0my_true\u001b[0m\u001b[1;33m,\u001b[0m \u001b[0my_pred\u001b[0m \u001b[1;33m=\u001b[0m \u001b[0m_check_targets\u001b[0m\u001b[1;33m(\u001b[0m\u001b[0my_true\u001b[0m\u001b[1;33m,\u001b[0m \u001b[0my_pred\u001b[0m\u001b[1;33m)\u001b[0m\u001b[1;33m\u001b[0m\u001b[0m\n\u001b[0m\u001b[0;32m    177\u001b[0m     \u001b[0mcheck_consistent_length\u001b[0m\u001b[1;33m(\u001b[0m\u001b[0my_true\u001b[0m\u001b[1;33m,\u001b[0m \u001b[0my_pred\u001b[0m\u001b[1;33m,\u001b[0m \u001b[0msample_weight\u001b[0m\u001b[1;33m)\u001b[0m\u001b[1;33m\u001b[0m\u001b[0m\n\u001b[0;32m    178\u001b[0m     \u001b[1;32mif\u001b[0m \u001b[0my_type\u001b[0m\u001b[1;33m.\u001b[0m\u001b[0mstartswith\u001b[0m\u001b[1;33m(\u001b[0m\u001b[1;34m'multilabel'\u001b[0m\u001b[1;33m)\u001b[0m\u001b[1;33m:\u001b[0m\u001b[1;33m\u001b[0m\u001b[0m\n",
      "\u001b[1;32m~\\Anaconda3\\lib\\site-packages\\sklearn\\metrics\\classification.py\u001b[0m in \u001b[0;36m_check_targets\u001b[1;34m(y_true, y_pred)\u001b[0m\n\u001b[0;32m     69\u001b[0m     \u001b[0my_pred\u001b[0m \u001b[1;33m:\u001b[0m \u001b[0marray\u001b[0m \u001b[1;32mor\u001b[0m \u001b[0mindicator\u001b[0m \u001b[0mmatrix\u001b[0m\u001b[1;33m\u001b[0m\u001b[0m\n\u001b[0;32m     70\u001b[0m     \"\"\"\n\u001b[1;32m---> 71\u001b[1;33m     \u001b[0mcheck_consistent_length\u001b[0m\u001b[1;33m(\u001b[0m\u001b[0my_true\u001b[0m\u001b[1;33m,\u001b[0m \u001b[0my_pred\u001b[0m\u001b[1;33m)\u001b[0m\u001b[1;33m\u001b[0m\u001b[0m\n\u001b[0m\u001b[0;32m     72\u001b[0m     \u001b[0mtype_true\u001b[0m \u001b[1;33m=\u001b[0m \u001b[0mtype_of_target\u001b[0m\u001b[1;33m(\u001b[0m\u001b[0my_true\u001b[0m\u001b[1;33m)\u001b[0m\u001b[1;33m\u001b[0m\u001b[0m\n\u001b[0;32m     73\u001b[0m     \u001b[0mtype_pred\u001b[0m \u001b[1;33m=\u001b[0m \u001b[0mtype_of_target\u001b[0m\u001b[1;33m(\u001b[0m\u001b[0my_pred\u001b[0m\u001b[1;33m)\u001b[0m\u001b[1;33m\u001b[0m\u001b[0m\n",
      "\u001b[1;32m~\\Anaconda3\\lib\\site-packages\\sklearn\\utils\\validation.py\u001b[0m in \u001b[0;36mcheck_consistent_length\u001b[1;34m(*arrays)\u001b[0m\n\u001b[0;32m    233\u001b[0m     \u001b[1;32mif\u001b[0m \u001b[0mlen\u001b[0m\u001b[1;33m(\u001b[0m\u001b[0muniques\u001b[0m\u001b[1;33m)\u001b[0m \u001b[1;33m>\u001b[0m \u001b[1;36m1\u001b[0m\u001b[1;33m:\u001b[0m\u001b[1;33m\u001b[0m\u001b[0m\n\u001b[0;32m    234\u001b[0m         raise ValueError(\"Found input variables with inconsistent numbers of\"\n\u001b[1;32m--> 235\u001b[1;33m                          \" samples: %r\" % [int(l) for l in lengths])\n\u001b[0m\u001b[0;32m    236\u001b[0m \u001b[1;33m\u001b[0m\u001b[0m\n\u001b[0;32m    237\u001b[0m \u001b[1;33m\u001b[0m\u001b[0m\n",
      "\u001b[1;31mValueError\u001b[0m: Found input variables with inconsistent numbers of samples: [21383, 5346]"
     ]
    }
   ],
   "source": [
    "# using simple RandomForestClassifier\n",
    "\n",
    "from sklearn.ensemble import RandomForestClassifier\n",
    "from sklearn.metrics import accuracy_score, log_loss\n",
    "\n",
    "clf = RandomForestClassifier(n_estimators=100, max_depth=75,\n",
    "                            random_state=0) # what is the optimized max_depth?\n",
    "\n",
    "rf_model = clf.fit(X_train, y_train)\n",
    "y_pred = clf.predict(X_test)\n",
    "print(accuracy_score(y_test,y_pred))\n",
    "y_pred_train = clf.predict(X_test)\n",
    "print(accuracy_score(y_train,y_pred_train))\n",
    "y_prob = rf_model.predict_proba(X_test)\n",
    "print(log_loss(y_test, y_prob))\n",
    "print(\"Accuracy-Test:\")"
   ]
  },
  {
   "cell_type": "code",
   "execution_count": 69,
   "metadata": {},
   "outputs": [
    {
     "name": "stdout",
     "output_type": "stream",
     "text": [
      "Accuracy-Test\n",
      "0.6950991395435839\n",
      "Accuracy-Train\n",
      "0.7502221390824487\n"
     ]
    }
   ],
   "source": [
    "y_pred = clf.predict(X_test)\n",
    "print(\"Accuracy-Test\")\n",
    "print(accuracy_score(y_test,y_pred))\n",
    "\n",
    "y_pred_train = clf.predict(X_train)\n",
    "print(\"Accuracy-Train\")\n",
    "print(accuracy_score(y_train,y_pred_train))\n"
   ]
  },
  {
   "cell_type": "code",
   "execution_count": 59,
   "metadata": {},
   "outputs": [
    {
     "name": "stdout",
     "output_type": "stream",
     "text": [
      "(21383, 24689)\n",
      "(21383,)\n"
     ]
    }
   ],
   "source": [
    "print(X_train.shape)\n",
    "print(y_train.shape)"
   ]
  },
  {
   "cell_type": "code",
   "execution_count": 60,
   "metadata": {
    "scrolled": false
   },
   "outputs": [
    {
     "name": "stdout",
     "output_type": "stream",
     "text": [
      "Confusion matrix-Training\n",
      "[[8447    0    0    3  153]\n",
      " [   7  138    0    1   13]\n",
      " [   0    0 1247    0    1]\n",
      " [2582    0    0 1100  188]\n",
      " [2386    0    0    7 5110]]\n"
     ]
    }
   ],
   "source": [
    "from sklearn.metrics import confusion_matrix\n",
    "y_pred = rf_model.predict(X_train)\n",
    "cm_trn = confusion_matrix(y_train, y_pred)\n",
    "print(\"Confusion matrix-Training\")\n",
    "print(cm_trn)"
   ]
  },
  {
   "cell_type": "code",
   "execution_count": 62,
   "metadata": {},
   "outputs": [
    {
     "name": "stdout",
     "output_type": "stream",
     "text": [
      "                 precision    recall  f1-score   support\n",
      "\n",
      "       Adoption       0.63      0.98      0.77      8603\n",
      "           Died       1.00      0.87      0.93       159\n",
      "     Euthanasia       1.00      1.00      1.00      1248\n",
      "Return_to_owner       0.99      0.28      0.44      3870\n",
      "       Transfer       0.94      0.68      0.79      7503\n",
      "\n",
      "      micro avg       0.75      0.75      0.75     21383\n",
      "      macro avg       0.91      0.76      0.79     21383\n",
      "   weighted avg       0.83      0.75      0.73     21383\n",
      "\n"
     ]
    }
   ],
   "source": [
    "from sklearn.metrics import classification_report\n",
    "print(classification_report(y_train, y_pred))"
   ]
  },
  {
   "cell_type": "code",
   "execution_count": 64,
   "metadata": {
    "scrolled": true
   },
   "outputs": [
    {
     "name": "stdout",
     "output_type": "stream",
     "text": [
      "Confusion matrix-Test\n",
      "[[2075    0    0   12   79]\n",
      " [   5   22    1    0   10]\n",
      " [   3    0  304    0    0]\n",
      " [ 736    0    0   87   93]\n",
      " [ 665    0    0   26 1228]]\n"
     ]
    }
   ],
   "source": [
    "from sklearn.metrics import confusion_matrix\n",
    "y_pred_tst = rf_model.predict(X_test)\n",
    "cm_tst = confusion_matrix(y_test, y_pred_tst)\n",
    "print(\"Confusion matrix-Test\")\n",
    "print(cm_tst)"
   ]
  },
  {
   "cell_type": "code",
   "execution_count": 63,
   "metadata": {},
   "outputs": [
    {
     "name": "stdout",
     "output_type": "stream",
     "text": [
      "                 precision    recall  f1-score   support\n",
      "\n",
      "       Adoption       0.60      0.96      0.73      2166\n",
      "           Died       1.00      0.58      0.73        38\n",
      "     Euthanasia       1.00      0.99      0.99       307\n",
      "Return_to_owner       0.70      0.09      0.17       916\n",
      "       Transfer       0.87      0.64      0.74      1919\n",
      "\n",
      "      micro avg       0.70      0.70      0.70      5346\n",
      "      macro avg       0.83      0.65      0.67      5346\n",
      "   weighted avg       0.74      0.70      0.65      5346\n",
      "\n"
     ]
    }
   ],
   "source": [
    "from sklearn.metrics import classification_report\n",
    "print(classification_report(y_test, y_pred_tst))"
   ]
  }
 ],
 "metadata": {
  "kernelspec": {
   "display_name": "Python 3",
   "language": "python",
   "name": "python3"
  },
  "language_info": {
   "codemirror_mode": {
    "name": "ipython",
    "version": 3
   },
   "file_extension": ".py",
   "mimetype": "text/x-python",
   "name": "python",
   "nbconvert_exporter": "python",
   "pygments_lexer": "ipython3",
   "version": "3.7.0"
  }
 },
 "nbformat": 4,
 "nbformat_minor": 2
}
